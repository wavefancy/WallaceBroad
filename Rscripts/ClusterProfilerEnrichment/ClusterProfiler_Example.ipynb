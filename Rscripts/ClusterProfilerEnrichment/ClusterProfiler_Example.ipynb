{
 "cells": [
  {
   "cell_type": "markdown",
   "metadata": {},
   "source": [
    "## Run enrichment analysis by Cluster Profiler"
   ]
  },
  {
   "cell_type": "code",
   "execution_count": null,
   "metadata": {},
   "outputs": [],
   "source": [
    "# conda install -c bioconda bioconductor-org.hs.eg.db\n",
    "# conda install -c bioconda bioconductor-clusterprofiler"
   ]
  },
  {
   "cell_type": "code",
   "execution_count": 32,
   "metadata": {},
   "outputs": [
    {
     "name": "stderr",
     "output_type": "stream",
     "text": [
      "Warning message:\n",
      "“package ‘rio’ was built under R version 3.6.3”\n"
     ]
    }
   ],
   "source": [
    "library(clusterProfiler)\n",
    "library(org.Hs.eg.db)\n",
    "library(rio)"
   ]
  },
  {
   "cell_type": "code",
   "execution_count": 2,
   "metadata": {},
   "outputs": [],
   "source": [
    "data(geneList, package=\"DOSE\")"
   ]
  },
  {
   "cell_type": "code",
   "execution_count": 36,
   "metadata": {},
   "outputs": [],
   "source": [
    "#export(as.matrix(names(geneList),ncol=1),'background.txt',col.names = F)"
   ]
  },
  {
   "cell_type": "code",
   "execution_count": 5,
   "metadata": {},
   "outputs": [],
   "source": [
    "gene <- names(geneList)[abs(geneList) > 2]"
   ]
  },
  {
   "cell_type": "code",
   "execution_count": 39,
   "metadata": {},
   "outputs": [],
   "source": [
    "#export(as.matrix(gene,ncol=1),'top.txt',col.names = F)"
   ]
  },
  {
   "cell_type": "code",
   "execution_count": 37,
   "metadata": {},
   "outputs": [
    {
     "data": {
      "text/html": [
       "<style>\n",
       ".list-inline {list-style: none; margin:0; padding: 0}\n",
       ".list-inline>li {display: inline-block}\n",
       ".list-inline>li:not(:last-child)::after {content: \"\\00b7\"; padding: 0 .5ex}\n",
       "</style>\n",
       "<ol class=list-inline><li>'4312'</li><li>'8318'</li><li>'10874'</li><li>'55143'</li><li>'55388'</li><li>'991'</li></ol>\n"
      ],
      "text/latex": [
       "\\begin{enumerate*}\n",
       "\\item '4312'\n",
       "\\item '8318'\n",
       "\\item '10874'\n",
       "\\item '55143'\n",
       "\\item '55388'\n",
       "\\item '991'\n",
       "\\end{enumerate*}\n"
      ],
      "text/markdown": [
       "1. '4312'\n",
       "2. '8318'\n",
       "3. '10874'\n",
       "4. '55143'\n",
       "5. '55388'\n",
       "6. '991'\n",
       "\n",
       "\n"
      ],
      "text/plain": [
       "[1] \"4312\"  \"8318\"  \"10874\" \"55143\" \"55388\" \"991\"  "
      ]
     },
     "metadata": {},
     "output_type": "display_data"
    }
   ],
   "source": [
    "head(gene)"
   ]
  },
  {
   "cell_type": "code",
   "execution_count": null,
   "metadata": {},
   "outputs": [],
   "source": []
  },
  {
   "cell_type": "code",
   "execution_count": 15,
   "metadata": {},
   "outputs": [
    {
     "name": "stderr",
     "output_type": "stream",
     "text": [
      "'select()' returned 1:many mapping between keys and columns\n",
      "\n"
     ]
    },
    {
     "data": {
      "text/html": [
       "<table>\n",
       "<caption>A data.frame: 6 × 3</caption>\n",
       "<thead>\n",
       "\t<tr><th></th><th scope=col>ENTREZID</th><th scope=col>ENSEMBL</th><th scope=col>SYMBOL</th></tr>\n",
       "\t<tr><th></th><th scope=col>&lt;chr&gt;</th><th scope=col>&lt;chr&gt;</th><th scope=col>&lt;chr&gt;</th></tr>\n",
       "</thead>\n",
       "<tbody>\n",
       "\t<tr><th scope=row>1</th><td>4312 </td><td>ENSG00000196611</td><td>MMP1 </td></tr>\n",
       "\t<tr><th scope=row>2</th><td>8318 </td><td>ENSG00000093009</td><td>CDC45</td></tr>\n",
       "\t<tr><th scope=row>3</th><td>10874</td><td>ENSG00000109255</td><td>NMU  </td></tr>\n",
       "\t<tr><th scope=row>4</th><td>55143</td><td>ENSG00000134690</td><td>CDCA8</td></tr>\n",
       "\t<tr><th scope=row>5</th><td>55388</td><td>ENSG00000065328</td><td>MCM10</td></tr>\n",
       "\t<tr><th scope=row>6</th><td>991  </td><td>ENSG00000117399</td><td>CDC20</td></tr>\n",
       "</tbody>\n",
       "</table>\n"
      ],
      "text/latex": [
       "A data.frame: 6 × 3\n",
       "\\begin{tabular}{r|lll}\n",
       "  & ENTREZID & ENSEMBL & SYMBOL\\\\\n",
       "  & <chr> & <chr> & <chr>\\\\\n",
       "\\hline\n",
       "\t1 & 4312  & ENSG00000196611 & MMP1 \\\\\n",
       "\t2 & 8318  & ENSG00000093009 & CDC45\\\\\n",
       "\t3 & 10874 & ENSG00000109255 & NMU  \\\\\n",
       "\t4 & 55143 & ENSG00000134690 & CDCA8\\\\\n",
       "\t5 & 55388 & ENSG00000065328 & MCM10\\\\\n",
       "\t6 & 991   & ENSG00000117399 & CDC20\\\\\n",
       "\\end{tabular}\n"
      ],
      "text/markdown": [
       "\n",
       "A data.frame: 6 × 3\n",
       "\n",
       "| <!--/--> | ENTREZID &lt;chr&gt; | ENSEMBL &lt;chr&gt; | SYMBOL &lt;chr&gt; |\n",
       "|---|---|---|---|\n",
       "| 1 | 4312  | ENSG00000196611 | MMP1  |\n",
       "| 2 | 8318  | ENSG00000093009 | CDC45 |\n",
       "| 3 | 10874 | ENSG00000109255 | NMU   |\n",
       "| 4 | 55143 | ENSG00000134690 | CDCA8 |\n",
       "| 5 | 55388 | ENSG00000065328 | MCM10 |\n",
       "| 6 | 991   | ENSG00000117399 | CDC20 |\n",
       "\n"
      ],
      "text/plain": [
       "  ENTREZID ENSEMBL         SYMBOL\n",
       "1 4312     ENSG00000196611 MMP1  \n",
       "2 8318     ENSG00000093009 CDC45 \n",
       "3 10874    ENSG00000109255 NMU   \n",
       "4 55143    ENSG00000134690 CDCA8 \n",
       "5 55388    ENSG00000065328 MCM10 \n",
       "6 991      ENSG00000117399 CDC20 "
      ]
     },
     "metadata": {},
     "output_type": "display_data"
    }
   ],
   "source": [
    "gene.df <- bitr(gene, fromType = \"ENTREZID\",\n",
    "        toType = c(\"ENSEMBL\", \"SYMBOL\"),\n",
    "        OrgDb = org.Hs.eg.db)\n",
    "head(gene.df)"
   ]
  },
  {
   "cell_type": "code",
   "execution_count": 16,
   "metadata": {},
   "outputs": [
    {
     "data": {
      "text/html": [
       "<table>\n",
       "<caption>A data.frame: 6 × 9</caption>\n",
       "<thead>\n",
       "\t<tr><th></th><th scope=col>ID</th><th scope=col>Description</th><th scope=col>GeneRatio</th><th scope=col>BgRatio</th><th scope=col>pvalue</th><th scope=col>p.adjust</th><th scope=col>qvalue</th><th scope=col>geneID</th><th scope=col>Count</th></tr>\n",
       "\t<tr><th></th><th scope=col>&lt;chr&gt;</th><th scope=col>&lt;chr&gt;</th><th scope=col>&lt;chr&gt;</th><th scope=col>&lt;chr&gt;</th><th scope=col>&lt;dbl&gt;</th><th scope=col>&lt;dbl&gt;</th><th scope=col>&lt;dbl&gt;</th><th scope=col>&lt;chr&gt;</th><th scope=col>&lt;int&gt;</th></tr>\n",
       "</thead>\n",
       "<tbody>\n",
       "\t<tr><th scope=row>GO:0005819</th><td>GO:0005819</td><td>spindle                                 </td><td>25/200</td><td>272/11816</td><td>4.695505e-12</td><td>1.493171e-09</td><td>1.378996e-09</td><td>CDCA8/CDC20/KIF23/CENPE/ASPM/DLGAP5/SKA1/NUSAP1/TPX2/TACC3/NEK2/CDK1/MAD2L1/KIF18A/BIRC5/KIF11/TTK/AURKB/PRC1/KIFC1/KIF18B/KIF20A/AURKA/CCNB1/KIF4A</td><td>25</td></tr>\n",
       "\t<tr><th scope=row>GO:0005876</th><td>GO:0005876</td><td>spindle microtubule                     </td><td>12/200</td><td>48/11816 </td><td>1.623758e-11</td><td>2.581776e-09</td><td>2.384361e-09</td><td>CENPE/SKA1/NUSAP1/CDK1/KIF18A/BIRC5/KIF11/AURKB/PRC1/KIF18B/AURKA/KIF4A                                                                            </td><td>12</td></tr>\n",
       "\t<tr><th scope=row>GO:0000779</th><td>GO:0000779</td><td>condensed chromosome, centromeric region</td><td>15/200</td><td>91/11816 </td><td>2.808998e-11</td><td>2.628919e-09</td><td>2.427899e-09</td><td>CENPE/NDC80/HJURP/SKA1/NEK2/CENPM/CENPN/ERCC6L/MAD2L1/CDT1/BIRC5/NCAPG/AURKB/AURKA/CCNB1                                                           </td><td>15</td></tr>\n",
       "\t<tr><th scope=row>GO:0072686</th><td>GO:0072686</td><td>mitotic spindle                         </td><td>15/200</td><td>92/11816 </td><td>3.306816e-11</td><td>2.628919e-09</td><td>2.427899e-09</td><td>KIF23/CENPE/ASPM/SKA1/NUSAP1/TPX2/TACC3/CDK1/MAD2L1/KIF18A/KIF11/AURKB/KIFC1/KIF18B/AURKA                                                          </td><td>15</td></tr>\n",
       "\t<tr><th scope=row>GO:0000775</th><td>GO:0000775</td><td>chromosome, centromeric region          </td><td>18/200</td><td>154/11816</td><td>1.061302e-10</td><td>6.749884e-09</td><td>6.233756e-09</td><td>CDCA8/CENPE/NDC80/HJURP/SKA1/NEK2/CENPM/CENPN/ERCC6L/MAD2L1/KIF18A/CDT1/BIRC5/TTK/NCAPG/AURKB/AURKA/CCNB1                                          </td><td>18</td></tr>\n",
       "\t<tr><th scope=row>GO:0000776</th><td>GO:0000776</td><td>kinetochore                             </td><td>15/200</td><td>107/11816</td><td>3.047081e-10</td><td>1.614953e-08</td><td>1.491466e-08</td><td>CENPE/NDC80/HJURP/SKA1/NEK2/CENPM/CENPN/ERCC6L/MAD2L1/KIF18A/CDT1/BIRC5/TTK/AURKB/CCNB1                                                            </td><td>15</td></tr>\n",
       "</tbody>\n",
       "</table>\n"
      ],
      "text/latex": [
       "A data.frame: 6 × 9\n",
       "\\begin{tabular}{r|lllllllll}\n",
       "  & ID & Description & GeneRatio & BgRatio & pvalue & p.adjust & qvalue & geneID & Count\\\\\n",
       "  & <chr> & <chr> & <chr> & <chr> & <dbl> & <dbl> & <dbl> & <chr> & <int>\\\\\n",
       "\\hline\n",
       "\tGO:0005819 & GO:0005819 & spindle                                  & 25/200 & 272/11816 & 4.695505e-12 & 1.493171e-09 & 1.378996e-09 & CDCA8/CDC20/KIF23/CENPE/ASPM/DLGAP5/SKA1/NUSAP1/TPX2/TACC3/NEK2/CDK1/MAD2L1/KIF18A/BIRC5/KIF11/TTK/AURKB/PRC1/KIFC1/KIF18B/KIF20A/AURKA/CCNB1/KIF4A & 25\\\\\n",
       "\tGO:0005876 & GO:0005876 & spindle microtubule                      & 12/200 & 48/11816  & 1.623758e-11 & 2.581776e-09 & 2.384361e-09 & CENPE/SKA1/NUSAP1/CDK1/KIF18A/BIRC5/KIF11/AURKB/PRC1/KIF18B/AURKA/KIF4A                                                                             & 12\\\\\n",
       "\tGO:0000779 & GO:0000779 & condensed chromosome, centromeric region & 15/200 & 91/11816  & 2.808998e-11 & 2.628919e-09 & 2.427899e-09 & CENPE/NDC80/HJURP/SKA1/NEK2/CENPM/CENPN/ERCC6L/MAD2L1/CDT1/BIRC5/NCAPG/AURKB/AURKA/CCNB1                                                            & 15\\\\\n",
       "\tGO:0072686 & GO:0072686 & mitotic spindle                          & 15/200 & 92/11816  & 3.306816e-11 & 2.628919e-09 & 2.427899e-09 & KIF23/CENPE/ASPM/SKA1/NUSAP1/TPX2/TACC3/CDK1/MAD2L1/KIF18A/KIF11/AURKB/KIFC1/KIF18B/AURKA                                                           & 15\\\\\n",
       "\tGO:0000775 & GO:0000775 & chromosome, centromeric region           & 18/200 & 154/11816 & 1.061302e-10 & 6.749884e-09 & 6.233756e-09 & CDCA8/CENPE/NDC80/HJURP/SKA1/NEK2/CENPM/CENPN/ERCC6L/MAD2L1/KIF18A/CDT1/BIRC5/TTK/NCAPG/AURKB/AURKA/CCNB1                                           & 18\\\\\n",
       "\tGO:0000776 & GO:0000776 & kinetochore                              & 15/200 & 107/11816 & 3.047081e-10 & 1.614953e-08 & 1.491466e-08 & CENPE/NDC80/HJURP/SKA1/NEK2/CENPM/CENPN/ERCC6L/MAD2L1/KIF18A/CDT1/BIRC5/TTK/AURKB/CCNB1                                                             & 15\\\\\n",
       "\\end{tabular}\n"
      ],
      "text/markdown": [
       "\n",
       "A data.frame: 6 × 9\n",
       "\n",
       "| <!--/--> | ID &lt;chr&gt; | Description &lt;chr&gt; | GeneRatio &lt;chr&gt; | BgRatio &lt;chr&gt; | pvalue &lt;dbl&gt; | p.adjust &lt;dbl&gt; | qvalue &lt;dbl&gt; | geneID &lt;chr&gt; | Count &lt;int&gt; |\n",
       "|---|---|---|---|---|---|---|---|---|---|\n",
       "| GO:0005819 | GO:0005819 | spindle                                  | 25/200 | 272/11816 | 4.695505e-12 | 1.493171e-09 | 1.378996e-09 | CDCA8/CDC20/KIF23/CENPE/ASPM/DLGAP5/SKA1/NUSAP1/TPX2/TACC3/NEK2/CDK1/MAD2L1/KIF18A/BIRC5/KIF11/TTK/AURKB/PRC1/KIFC1/KIF18B/KIF20A/AURKA/CCNB1/KIF4A | 25 |\n",
       "| GO:0005876 | GO:0005876 | spindle microtubule                      | 12/200 | 48/11816  | 1.623758e-11 | 2.581776e-09 | 2.384361e-09 | CENPE/SKA1/NUSAP1/CDK1/KIF18A/BIRC5/KIF11/AURKB/PRC1/KIF18B/AURKA/KIF4A                                                                             | 12 |\n",
       "| GO:0000779 | GO:0000779 | condensed chromosome, centromeric region | 15/200 | 91/11816  | 2.808998e-11 | 2.628919e-09 | 2.427899e-09 | CENPE/NDC80/HJURP/SKA1/NEK2/CENPM/CENPN/ERCC6L/MAD2L1/CDT1/BIRC5/NCAPG/AURKB/AURKA/CCNB1                                                            | 15 |\n",
       "| GO:0072686 | GO:0072686 | mitotic spindle                          | 15/200 | 92/11816  | 3.306816e-11 | 2.628919e-09 | 2.427899e-09 | KIF23/CENPE/ASPM/SKA1/NUSAP1/TPX2/TACC3/CDK1/MAD2L1/KIF18A/KIF11/AURKB/KIFC1/KIF18B/AURKA                                                           | 15 |\n",
       "| GO:0000775 | GO:0000775 | chromosome, centromeric region           | 18/200 | 154/11816 | 1.061302e-10 | 6.749884e-09 | 6.233756e-09 | CDCA8/CENPE/NDC80/HJURP/SKA1/NEK2/CENPM/CENPN/ERCC6L/MAD2L1/KIF18A/CDT1/BIRC5/TTK/NCAPG/AURKB/AURKA/CCNB1                                           | 18 |\n",
       "| GO:0000776 | GO:0000776 | kinetochore                              | 15/200 | 107/11816 | 3.047081e-10 | 1.614953e-08 | 1.491466e-08 | CENPE/NDC80/HJURP/SKA1/NEK2/CENPM/CENPN/ERCC6L/MAD2L1/KIF18A/CDT1/BIRC5/TTK/AURKB/CCNB1                                                             | 15 |\n",
       "\n"
      ],
      "text/plain": [
       "           ID         Description                              GeneRatio\n",
       "GO:0005819 GO:0005819 spindle                                  25/200   \n",
       "GO:0005876 GO:0005876 spindle microtubule                      12/200   \n",
       "GO:0000779 GO:0000779 condensed chromosome, centromeric region 15/200   \n",
       "GO:0072686 GO:0072686 mitotic spindle                          15/200   \n",
       "GO:0000775 GO:0000775 chromosome, centromeric region           18/200   \n",
       "GO:0000776 GO:0000776 kinetochore                              15/200   \n",
       "           BgRatio   pvalue       p.adjust     qvalue      \n",
       "GO:0005819 272/11816 4.695505e-12 1.493171e-09 1.378996e-09\n",
       "GO:0005876 48/11816  1.623758e-11 2.581776e-09 2.384361e-09\n",
       "GO:0000779 91/11816  2.808998e-11 2.628919e-09 2.427899e-09\n",
       "GO:0072686 92/11816  3.306816e-11 2.628919e-09 2.427899e-09\n",
       "GO:0000775 154/11816 1.061302e-10 6.749884e-09 6.233756e-09\n",
       "GO:0000776 107/11816 3.047081e-10 1.614953e-08 1.491466e-08\n",
       "           geneID                                                                                                                                             \n",
       "GO:0005819 CDCA8/CDC20/KIF23/CENPE/ASPM/DLGAP5/SKA1/NUSAP1/TPX2/TACC3/NEK2/CDK1/MAD2L1/KIF18A/BIRC5/KIF11/TTK/AURKB/PRC1/KIFC1/KIF18B/KIF20A/AURKA/CCNB1/KIF4A\n",
       "GO:0005876 CENPE/SKA1/NUSAP1/CDK1/KIF18A/BIRC5/KIF11/AURKB/PRC1/KIF18B/AURKA/KIF4A                                                                            \n",
       "GO:0000779 CENPE/NDC80/HJURP/SKA1/NEK2/CENPM/CENPN/ERCC6L/MAD2L1/CDT1/BIRC5/NCAPG/AURKB/AURKA/CCNB1                                                           \n",
       "GO:0072686 KIF23/CENPE/ASPM/SKA1/NUSAP1/TPX2/TACC3/CDK1/MAD2L1/KIF18A/KIF11/AURKB/KIFC1/KIF18B/AURKA                                                          \n",
       "GO:0000775 CDCA8/CENPE/NDC80/HJURP/SKA1/NEK2/CENPM/CENPN/ERCC6L/MAD2L1/KIF18A/CDT1/BIRC5/TTK/NCAPG/AURKB/AURKA/CCNB1                                          \n",
       "GO:0000776 CENPE/NDC80/HJURP/SKA1/NEK2/CENPM/CENPN/ERCC6L/MAD2L1/KIF18A/CDT1/BIRC5/TTK/AURKB/CCNB1                                                            \n",
       "           Count\n",
       "GO:0005819 25   \n",
       "GO:0005876 12   \n",
       "GO:0000779 15   \n",
       "GO:0072686 15   \n",
       "GO:0000775 18   \n",
       "GO:0000776 15   "
      ]
     },
     "metadata": {},
     "output_type": "display_data"
    }
   ],
   "source": [
    "ego <- enrichGO(gene          = gene,\n",
    "                universe      = names(geneList),\n",
    "                OrgDb         = org.Hs.eg.db,\n",
    "                ont           = \"CC\",\n",
    "                pAdjustMethod = \"BH\",\n",
    "                pvalueCutoff  = 0.01,\n",
    "                qvalueCutoff  = 0.05,\n",
    "        readable      = TRUE)\n",
    "head(ego)"
   ]
  },
  {
   "cell_type": "code",
   "execution_count": 48,
   "metadata": {},
   "outputs": [
    {
     "data": {
      "text/html": [
       "<style>\n",
       ".list-inline {list-style: none; margin:0; padding: 0}\n",
       ".list-inline>li {display: inline-block}\n",
       ".list-inline>li:not(:last-child)::after {content: \"\\00b7\"; padding: 0 .5ex}\n",
       "</style>\n",
       "<ol class=list-inline><li>23</li><li>9</li></ol>\n"
      ],
      "text/latex": [
       "\\begin{enumerate*}\n",
       "\\item 23\n",
       "\\item 9\n",
       "\\end{enumerate*}\n"
      ],
      "text/markdown": [
       "1. 23\n",
       "2. 9\n",
       "\n",
       "\n"
      ],
      "text/plain": [
       "[1] 23  9"
      ]
     },
     "metadata": {},
     "output_type": "display_data"
    }
   ],
   "source": [
    "dim(as.data.frame(ego))"
   ]
  },
  {
   "cell_type": "code",
   "execution_count": 55,
   "metadata": {},
   "outputs": [],
   "source": [
    "?enrichGO"
   ]
  },
  {
   "cell_type": "code",
   "execution_count": 49,
   "metadata": {},
   "outputs": [
    {
     "data": {
      "text/html": [
       "<table>\n",
       "<caption>A data.frame: 6 × 9</caption>\n",
       "<thead>\n",
       "\t<tr><th></th><th scope=col>ID</th><th scope=col>Description</th><th scope=col>GeneRatio</th><th scope=col>BgRatio</th><th scope=col>pvalue</th><th scope=col>p.adjust</th><th scope=col>qvalue</th><th scope=col>geneID</th><th scope=col>Count</th></tr>\n",
       "\t<tr><th></th><th scope=col>&lt;chr&gt;</th><th scope=col>&lt;chr&gt;</th><th scope=col>&lt;chr&gt;</th><th scope=col>&lt;chr&gt;</th><th scope=col>&lt;dbl&gt;</th><th scope=col>&lt;dbl&gt;</th><th scope=col>&lt;dbl&gt;</th><th scope=col>&lt;chr&gt;</th><th scope=col>&lt;int&gt;</th></tr>\n",
       "</thead>\n",
       "<tbody>\n",
       "\t<tr><th scope=row>GO:0005819</th><td>GO:0005819</td><td>spindle                                 </td><td>25/200</td><td>347/19717</td><td>1.612727e-14</td><td>4.951071e-12</td><td>4.498659e-12</td><td>CDCA8/CDC20/KIF23/CENPE/ASPM/DLGAP5/SKA1/NUSAP1/TPX2/TACC3/NEK2/CDK1/MAD2L1/KIF18A/BIRC5/KIF11/TTK/AURKB/PRC1/KIFC1/KIF18B/KIF20A/AURKA/CCNB1/KIF4A</td><td>25</td></tr>\n",
       "\t<tr><th scope=row>GO:0072686</th><td>GO:0072686</td><td>mitotic spindle                         </td><td>15/200</td><td>109/19717</td><td>3.213034e-13</td><td>4.932007e-11</td><td>4.481337e-11</td><td>KIF23/CENPE/ASPM/SKA1/NUSAP1/TPX2/TACC3/CDK1/MAD2L1/KIF18A/KIF11/AURKB/KIFC1/KIF18B/AURKA                                                          </td><td>15</td></tr>\n",
       "\t<tr><th scope=row>GO:0005876</th><td>GO:0005876</td><td>spindle microtubule                     </td><td>12/200</td><td>59/19717 </td><td>6.281538e-13</td><td>6.428107e-11</td><td>5.840728e-11</td><td>CENPE/SKA1/NUSAP1/CDK1/KIF18A/BIRC5/KIF11/AURKB/PRC1/KIF18B/AURKA/KIF4A                                                                            </td><td>12</td></tr>\n",
       "\t<tr><th scope=row>GO:0000779</th><td>GO:0000779</td><td>condensed chromosome, centromeric region</td><td>15/200</td><td>118/19717</td><td>1.056992e-12</td><td>7.406523e-11</td><td>6.729740e-11</td><td>CENPE/NDC80/HJURP/SKA1/NEK2/CENPM/CENPN/ERCC6L/MAD2L1/CDT1/BIRC5/NCAPG/AURKB/AURKA/CCNB1                                                           </td><td>15</td></tr>\n",
       "\t<tr><th scope=row>GO:0000775</th><td>GO:0000775</td><td>chromosome, centromeric region          </td><td>18/200</td><td>193/19717</td><td>1.206274e-12</td><td>7.406523e-11</td><td>6.729740e-11</td><td>CDCA8/CENPE/NDC80/HJURP/SKA1/NEK2/CENPM/CENPN/ERCC6L/MAD2L1/KIF18A/CDT1/BIRC5/TTK/NCAPG/AURKB/AURKA/CCNB1                                          </td><td>18</td></tr>\n",
       "\t<tr><th scope=row>GO:0000776</th><td>GO:0000776</td><td>kinetochore                             </td><td>15/200</td><td>135/19717</td><td>7.731150e-12</td><td>3.955772e-10</td><td>3.594306e-10</td><td>CENPE/NDC80/HJURP/SKA1/NEK2/CENPM/CENPN/ERCC6L/MAD2L1/KIF18A/CDT1/BIRC5/TTK/AURKB/CCNB1                                                            </td><td>15</td></tr>\n",
       "</tbody>\n",
       "</table>\n"
      ],
      "text/latex": [
       "A data.frame: 6 × 9\n",
       "\\begin{tabular}{r|lllllllll}\n",
       "  & ID & Description & GeneRatio & BgRatio & pvalue & p.adjust & qvalue & geneID & Count\\\\\n",
       "  & <chr> & <chr> & <chr> & <chr> & <dbl> & <dbl> & <dbl> & <chr> & <int>\\\\\n",
       "\\hline\n",
       "\tGO:0005819 & GO:0005819 & spindle                                  & 25/200 & 347/19717 & 1.612727e-14 & 4.951071e-12 & 4.498659e-12 & CDCA8/CDC20/KIF23/CENPE/ASPM/DLGAP5/SKA1/NUSAP1/TPX2/TACC3/NEK2/CDK1/MAD2L1/KIF18A/BIRC5/KIF11/TTK/AURKB/PRC1/KIFC1/KIF18B/KIF20A/AURKA/CCNB1/KIF4A & 25\\\\\n",
       "\tGO:0072686 & GO:0072686 & mitotic spindle                          & 15/200 & 109/19717 & 3.213034e-13 & 4.932007e-11 & 4.481337e-11 & KIF23/CENPE/ASPM/SKA1/NUSAP1/TPX2/TACC3/CDK1/MAD2L1/KIF18A/KIF11/AURKB/KIFC1/KIF18B/AURKA                                                           & 15\\\\\n",
       "\tGO:0005876 & GO:0005876 & spindle microtubule                      & 12/200 & 59/19717  & 6.281538e-13 & 6.428107e-11 & 5.840728e-11 & CENPE/SKA1/NUSAP1/CDK1/KIF18A/BIRC5/KIF11/AURKB/PRC1/KIF18B/AURKA/KIF4A                                                                             & 12\\\\\n",
       "\tGO:0000779 & GO:0000779 & condensed chromosome, centromeric region & 15/200 & 118/19717 & 1.056992e-12 & 7.406523e-11 & 6.729740e-11 & CENPE/NDC80/HJURP/SKA1/NEK2/CENPM/CENPN/ERCC6L/MAD2L1/CDT1/BIRC5/NCAPG/AURKB/AURKA/CCNB1                                                            & 15\\\\\n",
       "\tGO:0000775 & GO:0000775 & chromosome, centromeric region           & 18/200 & 193/19717 & 1.206274e-12 & 7.406523e-11 & 6.729740e-11 & CDCA8/CENPE/NDC80/HJURP/SKA1/NEK2/CENPM/CENPN/ERCC6L/MAD2L1/KIF18A/CDT1/BIRC5/TTK/NCAPG/AURKB/AURKA/CCNB1                                           & 18\\\\\n",
       "\tGO:0000776 & GO:0000776 & kinetochore                              & 15/200 & 135/19717 & 7.731150e-12 & 3.955772e-10 & 3.594306e-10 & CENPE/NDC80/HJURP/SKA1/NEK2/CENPM/CENPN/ERCC6L/MAD2L1/KIF18A/CDT1/BIRC5/TTK/AURKB/CCNB1                                                             & 15\\\\\n",
       "\\end{tabular}\n"
      ],
      "text/markdown": [
       "\n",
       "A data.frame: 6 × 9\n",
       "\n",
       "| <!--/--> | ID &lt;chr&gt; | Description &lt;chr&gt; | GeneRatio &lt;chr&gt; | BgRatio &lt;chr&gt; | pvalue &lt;dbl&gt; | p.adjust &lt;dbl&gt; | qvalue &lt;dbl&gt; | geneID &lt;chr&gt; | Count &lt;int&gt; |\n",
       "|---|---|---|---|---|---|---|---|---|---|\n",
       "| GO:0005819 | GO:0005819 | spindle                                  | 25/200 | 347/19717 | 1.612727e-14 | 4.951071e-12 | 4.498659e-12 | CDCA8/CDC20/KIF23/CENPE/ASPM/DLGAP5/SKA1/NUSAP1/TPX2/TACC3/NEK2/CDK1/MAD2L1/KIF18A/BIRC5/KIF11/TTK/AURKB/PRC1/KIFC1/KIF18B/KIF20A/AURKA/CCNB1/KIF4A | 25 |\n",
       "| GO:0072686 | GO:0072686 | mitotic spindle                          | 15/200 | 109/19717 | 3.213034e-13 | 4.932007e-11 | 4.481337e-11 | KIF23/CENPE/ASPM/SKA1/NUSAP1/TPX2/TACC3/CDK1/MAD2L1/KIF18A/KIF11/AURKB/KIFC1/KIF18B/AURKA                                                           | 15 |\n",
       "| GO:0005876 | GO:0005876 | spindle microtubule                      | 12/200 | 59/19717  | 6.281538e-13 | 6.428107e-11 | 5.840728e-11 | CENPE/SKA1/NUSAP1/CDK1/KIF18A/BIRC5/KIF11/AURKB/PRC1/KIF18B/AURKA/KIF4A                                                                             | 12 |\n",
       "| GO:0000779 | GO:0000779 | condensed chromosome, centromeric region | 15/200 | 118/19717 | 1.056992e-12 | 7.406523e-11 | 6.729740e-11 | CENPE/NDC80/HJURP/SKA1/NEK2/CENPM/CENPN/ERCC6L/MAD2L1/CDT1/BIRC5/NCAPG/AURKB/AURKA/CCNB1                                                            | 15 |\n",
       "| GO:0000775 | GO:0000775 | chromosome, centromeric region           | 18/200 | 193/19717 | 1.206274e-12 | 7.406523e-11 | 6.729740e-11 | CDCA8/CENPE/NDC80/HJURP/SKA1/NEK2/CENPM/CENPN/ERCC6L/MAD2L1/KIF18A/CDT1/BIRC5/TTK/NCAPG/AURKB/AURKA/CCNB1                                           | 18 |\n",
       "| GO:0000776 | GO:0000776 | kinetochore                              | 15/200 | 135/19717 | 7.731150e-12 | 3.955772e-10 | 3.594306e-10 | CENPE/NDC80/HJURP/SKA1/NEK2/CENPM/CENPN/ERCC6L/MAD2L1/KIF18A/CDT1/BIRC5/TTK/AURKB/CCNB1                                                             | 15 |\n",
       "\n"
      ],
      "text/plain": [
       "           ID         Description                              GeneRatio\n",
       "GO:0005819 GO:0005819 spindle                                  25/200   \n",
       "GO:0072686 GO:0072686 mitotic spindle                          15/200   \n",
       "GO:0005876 GO:0005876 spindle microtubule                      12/200   \n",
       "GO:0000779 GO:0000779 condensed chromosome, centromeric region 15/200   \n",
       "GO:0000775 GO:0000775 chromosome, centromeric region           18/200   \n",
       "GO:0000776 GO:0000776 kinetochore                              15/200   \n",
       "           BgRatio   pvalue       p.adjust     qvalue      \n",
       "GO:0005819 347/19717 1.612727e-14 4.951071e-12 4.498659e-12\n",
       "GO:0072686 109/19717 3.213034e-13 4.932007e-11 4.481337e-11\n",
       "GO:0005876 59/19717  6.281538e-13 6.428107e-11 5.840728e-11\n",
       "GO:0000779 118/19717 1.056992e-12 7.406523e-11 6.729740e-11\n",
       "GO:0000775 193/19717 1.206274e-12 7.406523e-11 6.729740e-11\n",
       "GO:0000776 135/19717 7.731150e-12 3.955772e-10 3.594306e-10\n",
       "           geneID                                                                                                                                             \n",
       "GO:0005819 CDCA8/CDC20/KIF23/CENPE/ASPM/DLGAP5/SKA1/NUSAP1/TPX2/TACC3/NEK2/CDK1/MAD2L1/KIF18A/BIRC5/KIF11/TTK/AURKB/PRC1/KIFC1/KIF18B/KIF20A/AURKA/CCNB1/KIF4A\n",
       "GO:0072686 KIF23/CENPE/ASPM/SKA1/NUSAP1/TPX2/TACC3/CDK1/MAD2L1/KIF18A/KIF11/AURKB/KIFC1/KIF18B/AURKA                                                          \n",
       "GO:0005876 CENPE/SKA1/NUSAP1/CDK1/KIF18A/BIRC5/KIF11/AURKB/PRC1/KIF18B/AURKA/KIF4A                                                                            \n",
       "GO:0000779 CENPE/NDC80/HJURP/SKA1/NEK2/CENPM/CENPN/ERCC6L/MAD2L1/CDT1/BIRC5/NCAPG/AURKB/AURKA/CCNB1                                                           \n",
       "GO:0000775 CDCA8/CENPE/NDC80/HJURP/SKA1/NEK2/CENPM/CENPN/ERCC6L/MAD2L1/KIF18A/CDT1/BIRC5/TTK/NCAPG/AURKB/AURKA/CCNB1                                          \n",
       "GO:0000776 CENPE/NDC80/HJURP/SKA1/NEK2/CENPM/CENPN/ERCC6L/MAD2L1/KIF18A/CDT1/BIRC5/TTK/AURKB/CCNB1                                                            \n",
       "           Count\n",
       "GO:0005819 25   \n",
       "GO:0072686 15   \n",
       "GO:0005876 12   \n",
       "GO:0000779 15   \n",
       "GO:0000775 18   \n",
       "GO:0000776 15   "
      ]
     },
     "metadata": {},
     "output_type": "display_data"
    }
   ],
   "source": [
    "ego_a <- enrichGO(gene        = gene,\n",
    "                universe      = NULL,\n",
    "                OrgDb         = org.Hs.eg.db,\n",
    "                ont           = \"CC\",\n",
    "                pAdjustMethod = \"BH\",\n",
    "                pvalueCutoff  = 0.01,\n",
    "                qvalueCutoff  = 0.05,\n",
    "        readable      = TRUE)\n",
    "head(ego_a)"
   ]
  },
  {
   "cell_type": "code",
   "execution_count": 50,
   "metadata": {},
   "outputs": [
    {
     "data": {
      "text/html": [
       "<style>\n",
       ".list-inline {list-style: none; margin:0; padding: 0}\n",
       ".list-inline>li {display: inline-block}\n",
       ".list-inline>li:not(:last-child)::after {content: \"\\00b7\"; padding: 0 .5ex}\n",
       "</style>\n",
       "<ol class=list-inline><li>23</li><li>9</li></ol>\n"
      ],
      "text/latex": [
       "\\begin{enumerate*}\n",
       "\\item 23\n",
       "\\item 9\n",
       "\\end{enumerate*}\n"
      ],
      "text/markdown": [
       "1. 23\n",
       "2. 9\n",
       "\n",
       "\n"
      ],
      "text/plain": [
       "[1] 23  9"
      ]
     },
     "metadata": {},
     "output_type": "display_data"
    }
   ],
   "source": [
    "dim(as.data.frame(ego_a))"
   ]
  },
  {
   "cell_type": "code",
   "execution_count": null,
   "metadata": {},
   "outputs": [],
   "source": []
  },
  {
   "cell_type": "code",
   "execution_count": 17,
   "metadata": {},
   "outputs": [],
   "source": [
    "ego2 <- enrichGO(gene         = gene.df$ENSEMBL,\n",
    "                OrgDb         = org.Hs.eg.db,\n",
    "                keyType       = 'ENSEMBL',\n",
    "                ont           = \"CC\",\n",
    "                pAdjustMethod = \"BH\",\n",
    "                pvalueCutoff  = 0.01,\n",
    "                qvalueCutoff  = 0.05)"
   ]
  },
  {
   "cell_type": "code",
   "execution_count": 60,
   "metadata": {},
   "outputs": [
    {
     "data": {
      "text/html": [
       "<pre class=language-r><code>function (gene, OrgDb, keyType = \"ENTREZID\", ont = \"MF\", pvalueCutoff = 0.05, \n",
       "<span style=white-space:pre-wrap>    pAdjustMethod = \"BH\", universe, qvalueCutoff = 0.2, minGSSize = 10, </span>\n",
       "<span style=white-space:pre-wrap>    maxGSSize = 500, readable = FALSE, pool = FALSE) </span>\n",
       "{\n",
       "<span style=white-space:pre-wrap>    ont %&lt;&gt;% toupper</span>\n",
       "<span style=white-space:pre-wrap>    ont &lt;- match.arg(ont, c(\"BP\", \"MF\", \"CC\", \"ALL\"))</span>\n",
       "<span style=white-space:pre-wrap>    GO_DATA &lt;- get_GO_data(OrgDb, ont, keyType)</span>\n",
       "<span style=white-space:pre-wrap>    if (missing(universe)) </span>\n",
       "<span style=white-space:pre-wrap>        universe &lt;- NULL</span>\n",
       "<span style=white-space:pre-wrap>    if (ont == \"ALL\" &amp;&amp; !pool) {</span>\n",
       "<span style=white-space:pre-wrap>        lres &lt;- lapply(c(\"BP\", \"CC\", \"MF\"), function(ont) suppressMessages(enrichGO(gene, </span>\n",
       "<span style=white-space:pre-wrap>            OrgDb, keyType, ont, pvalueCutoff, pAdjustMethod, </span>\n",
       "<span style=white-space:pre-wrap>            universe, qvalueCutoff, minGSSize, maxGSSize)))</span>\n",
       "<span style=white-space:pre-wrap>        lres &lt;- lres[!sapply(lres, is.null)]</span>\n",
       "<span style=white-space:pre-wrap>        if (length(lres) == 0) </span>\n",
       "<span style=white-space:pre-wrap>            return(NULL)</span>\n",
       "<span style=white-space:pre-wrap>        df &lt;- do.call(\"rbind\", lapply(lres, as.data.frame))</span>\n",
       "<span style=white-space:pre-wrap>        geneSets &lt;- lres[[1]]@geneSets</span>\n",
       "<span style=white-space:pre-wrap>        if (length(lres) &gt; 1) {</span>\n",
       "<span style=white-space:pre-wrap>            for (i in 2:length(lres)) {</span>\n",
       "<span style=white-space:pre-wrap>                geneSets &lt;- append(geneSets, lres[[i]]@geneSets)</span>\n",
       "<span style=white-space:pre-wrap>            }</span>\n",
       "<span style=white-space:pre-wrap>        }</span>\n",
       "<span style=white-space:pre-wrap>        res &lt;- lres[[1]]</span>\n",
       "<span style=white-space:pre-wrap>        res@result &lt;- df</span>\n",
       "<span style=white-space:pre-wrap>        res@geneSets &lt;- geneSets</span>\n",
       "<span style=white-space:pre-wrap>    }</span>\n",
       "<span style=white-space:pre-wrap>    else {</span>\n",
       "<span style=white-space:pre-wrap>        res &lt;- enricher_internal(gene, pvalueCutoff = pvalueCutoff, </span>\n",
       "<span style=white-space:pre-wrap>            pAdjustMethod = pAdjustMethod, universe = universe, </span>\n",
       "<span style=white-space:pre-wrap>            qvalueCutoff = qvalueCutoff, minGSSize = minGSSize, </span>\n",
       "<span style=white-space:pre-wrap>            maxGSSize = maxGSSize, USER_DATA = GO_DATA)</span>\n",
       "<span style=white-space:pre-wrap>        if (is.null(res)) </span>\n",
       "<span style=white-space:pre-wrap>            return(res)</span>\n",
       "<span style=white-space:pre-wrap>    }</span>\n",
       "<span style=white-space:pre-wrap>    res@keytype &lt;- keyType</span>\n",
       "<span style=white-space:pre-wrap>    res@organism &lt;- get_organism(OrgDb)</span>\n",
       "<span style=white-space:pre-wrap>    if (readable) {</span>\n",
       "<span style=white-space:pre-wrap>        res &lt;- setReadable(res, OrgDb)</span>\n",
       "<span style=white-space:pre-wrap>    }</span>\n",
       "<span style=white-space:pre-wrap>    res@ontology &lt;- ont</span>\n",
       "<span style=white-space:pre-wrap>    if (ont == \"ALL\") {</span>\n",
       "<span style=white-space:pre-wrap>        res &lt;- add_GO_Ontology(res, GO_DATA)</span>\n",
       "<span style=white-space:pre-wrap>    }</span>\n",
       "<span style=white-space:pre-wrap>    return(res)</span>\n",
       "}</code></pre>"
      ],
      "text/latex": [
       "\\begin{minted}{r}\n",
       "function (gene, OrgDb, keyType = \"ENTREZID\", ont = \"MF\", pvalueCutoff = 0.05, \n",
       "    pAdjustMethod = \"BH\", universe, qvalueCutoff = 0.2, minGSSize = 10, \n",
       "    maxGSSize = 500, readable = FALSE, pool = FALSE) \n",
       "\\{\n",
       "    ont \\%<>\\% toupper\n",
       "    ont <- match.arg(ont, c(\"BP\", \"MF\", \"CC\", \"ALL\"))\n",
       "    GO\\_DATA <- get\\_GO\\_data(OrgDb, ont, keyType)\n",
       "    if (missing(universe)) \n",
       "        universe <- NULL\n",
       "    if (ont == \"ALL\" \\&\\& !pool) \\{\n",
       "        lres <- lapply(c(\"BP\", \"CC\", \"MF\"), function(ont) suppressMessages(enrichGO(gene, \n",
       "            OrgDb, keyType, ont, pvalueCutoff, pAdjustMethod, \n",
       "            universe, qvalueCutoff, minGSSize, maxGSSize)))\n",
       "        lres <- lres{[}!sapply(lres, is.null){]}\n",
       "        if (length(lres) == 0) \n",
       "            return(NULL)\n",
       "        df <- do.call(\"rbind\", lapply(lres, as.data.frame))\n",
       "        geneSets <- lres{[}{[}1{]}{]}@geneSets\n",
       "        if (length(lres) > 1) \\{\n",
       "            for (i in 2:length(lres)) \\{\n",
       "                geneSets <- append(geneSets, lres{[}{[}i{]}{]}@geneSets)\n",
       "            \\}\n",
       "        \\}\n",
       "        res <- lres{[}{[}1{]}{]}\n",
       "        res@result <- df\n",
       "        res@geneSets <- geneSets\n",
       "    \\}\n",
       "    else \\{\n",
       "        res <- enricher\\_internal(gene, pvalueCutoff = pvalueCutoff, \n",
       "            pAdjustMethod = pAdjustMethod, universe = universe, \n",
       "            qvalueCutoff = qvalueCutoff, minGSSize = minGSSize, \n",
       "            maxGSSize = maxGSSize, USER\\_DATA = GO\\_DATA)\n",
       "        if (is.null(res)) \n",
       "            return(res)\n",
       "    \\}\n",
       "    res@keytype <- keyType\n",
       "    res@organism <- get\\_organism(OrgDb)\n",
       "    if (readable) \\{\n",
       "        res <- setReadable(res, OrgDb)\n",
       "    \\}\n",
       "    res@ontology <- ont\n",
       "    if (ont == \"ALL\") \\{\n",
       "        res <- add\\_GO\\_Ontology(res, GO\\_DATA)\n",
       "    \\}\n",
       "    return(res)\n",
       "\\}\n",
       "\\end{minted}"
      ],
      "text/markdown": [
       "```r\n",
       "function (gene, OrgDb, keyType = \"ENTREZID\", ont = \"MF\", pvalueCutoff = 0.05, \n",
       "    pAdjustMethod = \"BH\", universe, qvalueCutoff = 0.2, minGSSize = 10, \n",
       "    maxGSSize = 500, readable = FALSE, pool = FALSE) \n",
       "{\n",
       "    ont %<>% toupper\n",
       "    ont <- match.arg(ont, c(\"BP\", \"MF\", \"CC\", \"ALL\"))\n",
       "    GO_DATA <- get_GO_data(OrgDb, ont, keyType)\n",
       "    if (missing(universe)) \n",
       "        universe <- NULL\n",
       "    if (ont == \"ALL\" && !pool) {\n",
       "        lres <- lapply(c(\"BP\", \"CC\", \"MF\"), function(ont) suppressMessages(enrichGO(gene, \n",
       "            OrgDb, keyType, ont, pvalueCutoff, pAdjustMethod, \n",
       "            universe, qvalueCutoff, minGSSize, maxGSSize)))\n",
       "        lres <- lres[!sapply(lres, is.null)]\n",
       "        if (length(lres) == 0) \n",
       "            return(NULL)\n",
       "        df <- do.call(\"rbind\", lapply(lres, as.data.frame))\n",
       "        geneSets <- lres[[1]]@geneSets\n",
       "        if (length(lres) > 1) {\n",
       "            for (i in 2:length(lres)) {\n",
       "                geneSets <- append(geneSets, lres[[i]]@geneSets)\n",
       "            }\n",
       "        }\n",
       "        res <- lres[[1]]\n",
       "        res@result <- df\n",
       "        res@geneSets <- geneSets\n",
       "    }\n",
       "    else {\n",
       "        res <- enricher_internal(gene, pvalueCutoff = pvalueCutoff, \n",
       "            pAdjustMethod = pAdjustMethod, universe = universe, \n",
       "            qvalueCutoff = qvalueCutoff, minGSSize = minGSSize, \n",
       "            maxGSSize = maxGSSize, USER_DATA = GO_DATA)\n",
       "        if (is.null(res)) \n",
       "            return(res)\n",
       "    }\n",
       "    res@keytype <- keyType\n",
       "    res@organism <- get_organism(OrgDb)\n",
       "    if (readable) {\n",
       "        res <- setReadable(res, OrgDb)\n",
       "    }\n",
       "    res@ontology <- ont\n",
       "    if (ont == \"ALL\") {\n",
       "        res <- add_GO_Ontology(res, GO_DATA)\n",
       "    }\n",
       "    return(res)\n",
       "}\n",
       "```"
      ],
      "text/plain": [
       "function (gene, OrgDb, keyType = \"ENTREZID\", ont = \"MF\", pvalueCutoff = 0.05, \n",
       "    pAdjustMethod = \"BH\", universe, qvalueCutoff = 0.2, minGSSize = 10, \n",
       "    maxGSSize = 500, readable = FALSE, pool = FALSE) \n",
       "{\n",
       "    ont %<>% toupper\n",
       "    ont <- match.arg(ont, c(\"BP\", \"MF\", \"CC\", \"ALL\"))\n",
       "    GO_DATA <- get_GO_data(OrgDb, ont, keyType)\n",
       "    if (missing(universe)) \n",
       "        universe <- NULL\n",
       "    if (ont == \"ALL\" && !pool) {\n",
       "        lres <- lapply(c(\"BP\", \"CC\", \"MF\"), function(ont) suppressMessages(enrichGO(gene, \n",
       "            OrgDb, keyType, ont, pvalueCutoff, pAdjustMethod, \n",
       "            universe, qvalueCutoff, minGSSize, maxGSSize)))\n",
       "        lres <- lres[!sapply(lres, is.null)]\n",
       "        if (length(lres) == 0) \n",
       "            return(NULL)\n",
       "        df <- do.call(\"rbind\", lapply(lres, as.data.frame))\n",
       "        geneSets <- lres[[1]]@geneSets\n",
       "        if (length(lres) > 1) {\n",
       "            for (i in 2:length(lres)) {\n",
       "                geneSets <- append(geneSets, lres[[i]]@geneSets)\n",
       "            }\n",
       "        }\n",
       "        res <- lres[[1]]\n",
       "        res@result <- df\n",
       "        res@geneSets <- geneSets\n",
       "    }\n",
       "    else {\n",
       "        res <- enricher_internal(gene, pvalueCutoff = pvalueCutoff, \n",
       "            pAdjustMethod = pAdjustMethod, universe = universe, \n",
       "            qvalueCutoff = qvalueCutoff, minGSSize = minGSSize, \n",
       "            maxGSSize = maxGSSize, USER_DATA = GO_DATA)\n",
       "        if (is.null(res)) \n",
       "            return(res)\n",
       "    }\n",
       "    res@keytype <- keyType\n",
       "    res@organism <- get_organism(OrgDb)\n",
       "    if (readable) {\n",
       "        res <- setReadable(res, OrgDb)\n",
       "    }\n",
       "    res@ontology <- ont\n",
       "    if (ont == \"ALL\") {\n",
       "        res <- add_GO_Ontology(res, GO_DATA)\n",
       "    }\n",
       "    return(res)\n",
       "}\n",
       "<bytecode: 0x7fa47a85cb00>\n",
       "<environment: namespace:clusterProfiler>"
      ]
     },
     "metadata": {},
     "output_type": "display_data"
    }
   ],
   "source": [
    "enrichGO"
   ]
  },
  {
   "cell_type": "code",
   "execution_count": null,
   "metadata": {},
   "outputs": [],
   "source": []
  },
  {
   "cell_type": "code",
   "execution_count": 25,
   "metadata": {},
   "outputs": [],
   "source": [
    "ego3 <- gseGO(geneList     = geneList,\n",
    "              OrgDb        = org.Hs.eg.db,\n",
    "              ont          = \"CC\",\n",
    "              nPerm        = 1000,\n",
    "              minGSSize    = 100,\n",
    "              maxGSSize    = 500,\n",
    "              pvalueCutoff = 0.05,\n",
    "              verbose      = FALSE)"
   ]
  },
  {
   "cell_type": "code",
   "execution_count": 26,
   "metadata": {},
   "outputs": [
    {
     "data": {
      "text/html": [
       "<table>\n",
       "<caption>A data.frame: 6 × 11</caption>\n",
       "<thead>\n",
       "\t<tr><th></th><th scope=col>ID</th><th scope=col>Description</th><th scope=col>setSize</th><th scope=col>enrichmentScore</th><th scope=col>NES</th><th scope=col>pvalue</th><th scope=col>p.adjust</th><th scope=col>qvalues</th><th scope=col>rank</th><th scope=col>leading_edge</th><th scope=col>core_enrichment</th></tr>\n",
       "\t<tr><th></th><th scope=col>&lt;chr&gt;</th><th scope=col>&lt;chr&gt;</th><th scope=col>&lt;int&gt;</th><th scope=col>&lt;dbl&gt;</th><th scope=col>&lt;dbl&gt;</th><th scope=col>&lt;dbl&gt;</th><th scope=col>&lt;dbl&gt;</th><th scope=col>&lt;dbl&gt;</th><th scope=col>&lt;dbl&gt;</th><th scope=col>&lt;chr&gt;</th><th scope=col>&lt;chr&gt;</th></tr>\n",
       "</thead>\n",
       "<tbody>\n",
       "\t<tr><th scope=row>GO:0031012</th><td>GO:0031012</td><td>extracellular matrix                             </td><td>427</td><td>-0.4868578</td><td>-2.155842</td><td>0.001251564</td><td>0.0281407</td><td>0.01939522</td><td>1797</td><td>tags=37%, list=14%, signal=33%</td><td>57124/3910/51162/3371/2662/12/1291/4153/1301/56547/7474/3490/79875/7450/80781/78987/79625/8840/1490/1280/1306/4314/80070/8425/977/10085/4054/51435/4256/3483/7482/2246/7837/169611/80059/7042/3912/4322/5919/2817/8722/6694/1278/10216/1511/5176/4060/283/30008/7869/1277/7078/5549/22795/10516/81578/23452/1293/1295/22915/8406/80760/1012/6469/8076/5118/2192/1281/50509/4319/1290/81029/79812/7058/11096/2202/4313/2199/1294/4856/26018/7481/4653/5764/6387/11117/3263/3339/7079/1462/1289/1292/3908/4016/25878/3909/4053/83716/6678/1955/1296/7041/8292/633/1191/54361/2162/10418/2239/1842/2615/165/5654/10631/1805/81035/2331/4485/3730/2152/63923/7043/5104/1359/3913/4982/8404/1300/2200/1634/79883/131578/4059/7177/1287/7049/563/7060/11081/2006/7373/1307/9370/79148/4958/1311/1308/8483/8839/4693/4148/1101/64499/54829/10234/4239/4969</td></tr>\n",
       "\t<tr><th scope=row>GO:0099568</th><td>GO:0099568</td><td>cytoplasmic region                               </td><td>368</td><td>-0.3426037</td><td>-1.498141</td><td>0.001290323</td><td>0.0281407</td><td>0.01939522</td><td>2613</td><td>tags=28%, list=21%, signal=23%</td><td>1639/51332/120/79882/399/23025/55752/3880/6622/55717/4130/4642/146754/10256/7881/3315/10947/55909/23265/3092/6416/285527/10211/1499/56171/9371/10497/92104/27445/2735/5357/126353/4739/25876/2571/1397/5813/6787/7402/5816/5590/51164/1490/4628/66008/55779/9743/7248/79781/10979/11005/23176/444/6764/8605/5311/2246/22863/4734/23122/9847/6709/9854/151011/2934/57731/51626/2241/4747/10411/9742/2868/5874/51314/4926/22832/582/2317/79819/10486/85477/22906/857/388/79659/10129/55812/2737/4646/3800/23245/55638/83450/9590/9576/114327/79971/4117/7122/25924/4137/79083/7802                                                                                                                                                                                                                                                                   </td></tr>\n",
       "\t<tr><th scope=row>GO:0062023</th><td>GO:0062023</td><td>collagen-containing extracellular matrix         </td><td>342</td><td>-0.5200592</td><td>-2.250533</td><td>0.001308901</td><td>0.0281407</td><td>0.01939522</td><td>1897</td><td>tags=39%, list=15%, signal=34%</td><td>4017/6649/1288/4811/3910/51162/3371/2662/12/1291/4153/1301/7474/3490/79875/7450/80781/78987/1490/1280/1306/80070/8425/977/10085/4054/51435/4256/7482/7837/7042/3912/5919/2817/8722/6694/1278/10216/1511/5176/4060/283/30008/7869/1277/7078/5549/22795/10516/81578/23452/1293/1295/22915/8406/80760/1012/6469/8076/5118/2192/1281/50509/1290/81029/79812/7058/11096/2202/4313/2199/1294/4856/4653/5764/6387/11117/3263/3339/1462/1289/1292/3908/4016/25878/3909/4053/6678/1955/1296/7041/8292/633/1191/2162/10418/2239/1842/165/5654/10631/1805/2331/4485/2152/7043/5104/1359/3913/8404/1300/2200/1634/79883/131578/4059/7177/1287/563/7060/2006/7373/1307/9370/79148/4958/1311/1308/8483/4693/4148/64499/54829/4239/4969                                                                                                                           </td></tr>\n",
       "\t<tr><th scope=row>GO:0044441</th><td>GO:0044441</td><td>ciliary part                                     </td><td>298</td><td>-0.3612491</td><td>-1.542344</td><td>0.001340483</td><td>0.0281407</td><td>0.01939522</td><td>2643</td><td>tags=32%, list=21%, signal=25%</td><td>6295/23329/2060/8814/53340/57828/25861/9696/3000/755/5190/2909/11337/54903/8481/79600/403/79874/5310/1639/51332/5891/8558/51761/5742/30845/55717/146754/146057/56123/2776/5158/283232/54806/56171/9371/4131/79960/95681/56912/8556/92104/80705/2735/22873/25876/79841/6337/80184/6787/84747/9231/27241/54558/55779/92482/79781/1235/5311/22863/64792/8100/51626/5108/9742/2868/51314/22832/582/57728/79819/80127/5577/585/80323/23116/90355/79659/55112/55812/2737/3800/65250/2121/83450/54587/9576/1811/114327/2947/4117/25924/79846/7802                                                                                                                                                                                                                                                                                                         </td></tr>\n",
       "\t<tr><th scope=row>GO:0005788</th><td>GO:0005788</td><td>endoplasmic reticulum lumen                      </td><td>257</td><td>-0.4102832</td><td>-1.733236</td><td>0.001356852</td><td>0.0281407</td><td>0.01939522</td><td>1836</td><td>tags=27%, list=15%, signal=23%</td><td>64374/845/3371/23621/1291/1301/375056/2098/7474/2322/7466/5624/3490/80781/79642/1280/1306/10272/844/11001/5799/590/3912/3270/6694/1278/80267/51280/414/1277/81578/1293/1295/6469/1281/50509/11167/1290/81029/11096/56034/91851/1294/2621/1471/1462/1289/1292/1296/174/1191/54361/213/10418/11098/54587/3913/3487/8404/1300/2200/1287/7373/80310/1307/1308/652/4148/8614                                                                                                                                                                                                                                                                                                                                                                                                                                                                            </td></tr>\n",
       "\t<tr><th scope=row>GO:0032838</th><td>GO:0032838</td><td>plasma membrane bounded cell projection cytoplasm</td><td>137</td><td>-0.4365603</td><td>-1.727705</td><td>0.001485884</td><td>0.0281407</td><td>0.01939522</td><td>2417</td><td>tags=28%, list=19%, signal=23%</td><td>55717/4130/146754/7881/3315/10947/6416/56171/9371/92104/2735/25876/5813/6787/66008/55779/79781/22863/51626/4747/9742/5874/51314/22832/582/79819/22906/79659/55812/2737/3800/55638/83450/9576/114327/79971/4117/4137/7802                                                                                                                                                                                                                                                                                                                                                                                                                                                                                                                                                                                                                           </td></tr>\n",
       "</tbody>\n",
       "</table>\n"
      ],
      "text/latex": [
       "A data.frame: 6 × 11\n",
       "\\begin{tabular}{r|lllllllllll}\n",
       "  & ID & Description & setSize & enrichmentScore & NES & pvalue & p.adjust & qvalues & rank & leading\\_edge & core\\_enrichment\\\\\n",
       "  & <chr> & <chr> & <int> & <dbl> & <dbl> & <dbl> & <dbl> & <dbl> & <dbl> & <chr> & <chr>\\\\\n",
       "\\hline\n",
       "\tGO:0031012 & GO:0031012 & extracellular matrix                              & 427 & -0.4868578 & -2.155842 & 0.001251564 & 0.0281407 & 0.01939522 & 1797 & tags=37\\%, list=14\\%, signal=33\\% & 57124/3910/51162/3371/2662/12/1291/4153/1301/56547/7474/3490/79875/7450/80781/78987/79625/8840/1490/1280/1306/4314/80070/8425/977/10085/4054/51435/4256/3483/7482/2246/7837/169611/80059/7042/3912/4322/5919/2817/8722/6694/1278/10216/1511/5176/4060/283/30008/7869/1277/7078/5549/22795/10516/81578/23452/1293/1295/22915/8406/80760/1012/6469/8076/5118/2192/1281/50509/4319/1290/81029/79812/7058/11096/2202/4313/2199/1294/4856/26018/7481/4653/5764/6387/11117/3263/3339/7079/1462/1289/1292/3908/4016/25878/3909/4053/83716/6678/1955/1296/7041/8292/633/1191/54361/2162/10418/2239/1842/2615/165/5654/10631/1805/81035/2331/4485/3730/2152/63923/7043/5104/1359/3913/4982/8404/1300/2200/1634/79883/131578/4059/7177/1287/7049/563/7060/11081/2006/7373/1307/9370/79148/4958/1311/1308/8483/8839/4693/4148/1101/64499/54829/10234/4239/4969\\\\\n",
       "\tGO:0099568 & GO:0099568 & cytoplasmic region                                & 368 & -0.3426037 & -1.498141 & 0.001290323 & 0.0281407 & 0.01939522 & 2613 & tags=28\\%, list=21\\%, signal=23\\% & 1639/51332/120/79882/399/23025/55752/3880/6622/55717/4130/4642/146754/10256/7881/3315/10947/55909/23265/3092/6416/285527/10211/1499/56171/9371/10497/92104/27445/2735/5357/126353/4739/25876/2571/1397/5813/6787/7402/5816/5590/51164/1490/4628/66008/55779/9743/7248/79781/10979/11005/23176/444/6764/8605/5311/2246/22863/4734/23122/9847/6709/9854/151011/2934/57731/51626/2241/4747/10411/9742/2868/5874/51314/4926/22832/582/2317/79819/10486/85477/22906/857/388/79659/10129/55812/2737/4646/3800/23245/55638/83450/9590/9576/114327/79971/4117/7122/25924/4137/79083/7802                                                                                                                                                                                                                                                                   \\\\\n",
       "\tGO:0062023 & GO:0062023 & collagen-containing extracellular matrix          & 342 & -0.5200592 & -2.250533 & 0.001308901 & 0.0281407 & 0.01939522 & 1897 & tags=39\\%, list=15\\%, signal=34\\% & 4017/6649/1288/4811/3910/51162/3371/2662/12/1291/4153/1301/7474/3490/79875/7450/80781/78987/1490/1280/1306/80070/8425/977/10085/4054/51435/4256/7482/7837/7042/3912/5919/2817/8722/6694/1278/10216/1511/5176/4060/283/30008/7869/1277/7078/5549/22795/10516/81578/23452/1293/1295/22915/8406/80760/1012/6469/8076/5118/2192/1281/50509/1290/81029/79812/7058/11096/2202/4313/2199/1294/4856/4653/5764/6387/11117/3263/3339/1462/1289/1292/3908/4016/25878/3909/4053/6678/1955/1296/7041/8292/633/1191/2162/10418/2239/1842/165/5654/10631/1805/2331/4485/2152/7043/5104/1359/3913/8404/1300/2200/1634/79883/131578/4059/7177/1287/563/7060/2006/7373/1307/9370/79148/4958/1311/1308/8483/4693/4148/64499/54829/4239/4969                                                                                                                           \\\\\n",
       "\tGO:0044441 & GO:0044441 & ciliary part                                      & 298 & -0.3612491 & -1.542344 & 0.001340483 & 0.0281407 & 0.01939522 & 2643 & tags=32\\%, list=21\\%, signal=25\\% & 6295/23329/2060/8814/53340/57828/25861/9696/3000/755/5190/2909/11337/54903/8481/79600/403/79874/5310/1639/51332/5891/8558/51761/5742/30845/55717/146754/146057/56123/2776/5158/283232/54806/56171/9371/4131/79960/95681/56912/8556/92104/80705/2735/22873/25876/79841/6337/80184/6787/84747/9231/27241/54558/55779/92482/79781/1235/5311/22863/64792/8100/51626/5108/9742/2868/51314/22832/582/57728/79819/80127/5577/585/80323/23116/90355/79659/55112/55812/2737/3800/65250/2121/83450/54587/9576/1811/114327/2947/4117/25924/79846/7802                                                                                                                                                                                                                                                                                                         \\\\\n",
       "\tGO:0005788 & GO:0005788 & endoplasmic reticulum lumen                       & 257 & -0.4102832 & -1.733236 & 0.001356852 & 0.0281407 & 0.01939522 & 1836 & tags=27\\%, list=15\\%, signal=23\\% & 64374/845/3371/23621/1291/1301/375056/2098/7474/2322/7466/5624/3490/80781/79642/1280/1306/10272/844/11001/5799/590/3912/3270/6694/1278/80267/51280/414/1277/81578/1293/1295/6469/1281/50509/11167/1290/81029/11096/56034/91851/1294/2621/1471/1462/1289/1292/1296/174/1191/54361/213/10418/11098/54587/3913/3487/8404/1300/2200/1287/7373/80310/1307/1308/652/4148/8614                                                                                                                                                                                                                                                                                                                                                                                                                                                                            \\\\\n",
       "\tGO:0032838 & GO:0032838 & plasma membrane bounded cell projection cytoplasm & 137 & -0.4365603 & -1.727705 & 0.001485884 & 0.0281407 & 0.01939522 & 2417 & tags=28\\%, list=19\\%, signal=23\\% & 55717/4130/146754/7881/3315/10947/6416/56171/9371/92104/2735/25876/5813/6787/66008/55779/79781/22863/51626/4747/9742/5874/51314/22832/582/79819/22906/79659/55812/2737/3800/55638/83450/9576/114327/79971/4117/4137/7802                                                                                                                                                                                                                                                                                                                                                                                                                                                                                                                                                                                                                           \\\\\n",
       "\\end{tabular}\n"
      ],
      "text/markdown": [
       "\n",
       "A data.frame: 6 × 11\n",
       "\n",
       "| <!--/--> | ID &lt;chr&gt; | Description &lt;chr&gt; | setSize &lt;int&gt; | enrichmentScore &lt;dbl&gt; | NES &lt;dbl&gt; | pvalue &lt;dbl&gt; | p.adjust &lt;dbl&gt; | qvalues &lt;dbl&gt; | rank &lt;dbl&gt; | leading_edge &lt;chr&gt; | core_enrichment &lt;chr&gt; |\n",
       "|---|---|---|---|---|---|---|---|---|---|---|---|\n",
       "| GO:0031012 | GO:0031012 | extracellular matrix                              | 427 | -0.4868578 | -2.155842 | 0.001251564 | 0.0281407 | 0.01939522 | 1797 | tags=37%, list=14%, signal=33% | 57124/3910/51162/3371/2662/12/1291/4153/1301/56547/7474/3490/79875/7450/80781/78987/79625/8840/1490/1280/1306/4314/80070/8425/977/10085/4054/51435/4256/3483/7482/2246/7837/169611/80059/7042/3912/4322/5919/2817/8722/6694/1278/10216/1511/5176/4060/283/30008/7869/1277/7078/5549/22795/10516/81578/23452/1293/1295/22915/8406/80760/1012/6469/8076/5118/2192/1281/50509/4319/1290/81029/79812/7058/11096/2202/4313/2199/1294/4856/26018/7481/4653/5764/6387/11117/3263/3339/7079/1462/1289/1292/3908/4016/25878/3909/4053/83716/6678/1955/1296/7041/8292/633/1191/54361/2162/10418/2239/1842/2615/165/5654/10631/1805/81035/2331/4485/3730/2152/63923/7043/5104/1359/3913/4982/8404/1300/2200/1634/79883/131578/4059/7177/1287/7049/563/7060/11081/2006/7373/1307/9370/79148/4958/1311/1308/8483/8839/4693/4148/1101/64499/54829/10234/4239/4969 |\n",
       "| GO:0099568 | GO:0099568 | cytoplasmic region                                | 368 | -0.3426037 | -1.498141 | 0.001290323 | 0.0281407 | 0.01939522 | 2613 | tags=28%, list=21%, signal=23% | 1639/51332/120/79882/399/23025/55752/3880/6622/55717/4130/4642/146754/10256/7881/3315/10947/55909/23265/3092/6416/285527/10211/1499/56171/9371/10497/92104/27445/2735/5357/126353/4739/25876/2571/1397/5813/6787/7402/5816/5590/51164/1490/4628/66008/55779/9743/7248/79781/10979/11005/23176/444/6764/8605/5311/2246/22863/4734/23122/9847/6709/9854/151011/2934/57731/51626/2241/4747/10411/9742/2868/5874/51314/4926/22832/582/2317/79819/10486/85477/22906/857/388/79659/10129/55812/2737/4646/3800/23245/55638/83450/9590/9576/114327/79971/4117/7122/25924/4137/79083/7802                                                                                                                                                                                                                                                                    |\n",
       "| GO:0062023 | GO:0062023 | collagen-containing extracellular matrix          | 342 | -0.5200592 | -2.250533 | 0.001308901 | 0.0281407 | 0.01939522 | 1897 | tags=39%, list=15%, signal=34% | 4017/6649/1288/4811/3910/51162/3371/2662/12/1291/4153/1301/7474/3490/79875/7450/80781/78987/1490/1280/1306/80070/8425/977/10085/4054/51435/4256/7482/7837/7042/3912/5919/2817/8722/6694/1278/10216/1511/5176/4060/283/30008/7869/1277/7078/5549/22795/10516/81578/23452/1293/1295/22915/8406/80760/1012/6469/8076/5118/2192/1281/50509/1290/81029/79812/7058/11096/2202/4313/2199/1294/4856/4653/5764/6387/11117/3263/3339/1462/1289/1292/3908/4016/25878/3909/4053/6678/1955/1296/7041/8292/633/1191/2162/10418/2239/1842/165/5654/10631/1805/2331/4485/2152/7043/5104/1359/3913/8404/1300/2200/1634/79883/131578/4059/7177/1287/563/7060/2006/7373/1307/9370/79148/4958/1311/1308/8483/4693/4148/64499/54829/4239/4969                                                                                                                            |\n",
       "| GO:0044441 | GO:0044441 | ciliary part                                      | 298 | -0.3612491 | -1.542344 | 0.001340483 | 0.0281407 | 0.01939522 | 2643 | tags=32%, list=21%, signal=25% | 6295/23329/2060/8814/53340/57828/25861/9696/3000/755/5190/2909/11337/54903/8481/79600/403/79874/5310/1639/51332/5891/8558/51761/5742/30845/55717/146754/146057/56123/2776/5158/283232/54806/56171/9371/4131/79960/95681/56912/8556/92104/80705/2735/22873/25876/79841/6337/80184/6787/84747/9231/27241/54558/55779/92482/79781/1235/5311/22863/64792/8100/51626/5108/9742/2868/51314/22832/582/57728/79819/80127/5577/585/80323/23116/90355/79659/55112/55812/2737/3800/65250/2121/83450/54587/9576/1811/114327/2947/4117/25924/79846/7802                                                                                                                                                                                                                                                                                                          |\n",
       "| GO:0005788 | GO:0005788 | endoplasmic reticulum lumen                       | 257 | -0.4102832 | -1.733236 | 0.001356852 | 0.0281407 | 0.01939522 | 1836 | tags=27%, list=15%, signal=23% | 64374/845/3371/23621/1291/1301/375056/2098/7474/2322/7466/5624/3490/80781/79642/1280/1306/10272/844/11001/5799/590/3912/3270/6694/1278/80267/51280/414/1277/81578/1293/1295/6469/1281/50509/11167/1290/81029/11096/56034/91851/1294/2621/1471/1462/1289/1292/1296/174/1191/54361/213/10418/11098/54587/3913/3487/8404/1300/2200/1287/7373/80310/1307/1308/652/4148/8614                                                                                                                                                                                                                                                                                                                                                                                                                                                                             |\n",
       "| GO:0032838 | GO:0032838 | plasma membrane bounded cell projection cytoplasm | 137 | -0.4365603 | -1.727705 | 0.001485884 | 0.0281407 | 0.01939522 | 2417 | tags=28%, list=19%, signal=23% | 55717/4130/146754/7881/3315/10947/6416/56171/9371/92104/2735/25876/5813/6787/66008/55779/79781/22863/51626/4747/9742/5874/51314/22832/582/79819/22906/79659/55812/2737/3800/55638/83450/9576/114327/79971/4117/4137/7802                                                                                                                                                                                                                                                                                                                                                                                                                                                                                                                                                                                                                            |\n",
       "\n"
      ],
      "text/plain": [
       "           ID         Description                                       setSize\n",
       "GO:0031012 GO:0031012 extracellular matrix                              427    \n",
       "GO:0099568 GO:0099568 cytoplasmic region                                368    \n",
       "GO:0062023 GO:0062023 collagen-containing extracellular matrix          342    \n",
       "GO:0044441 GO:0044441 ciliary part                                      298    \n",
       "GO:0005788 GO:0005788 endoplasmic reticulum lumen                       257    \n",
       "GO:0032838 GO:0032838 plasma membrane bounded cell projection cytoplasm 137    \n",
       "           enrichmentScore NES       pvalue      p.adjust  qvalues    rank\n",
       "GO:0031012 -0.4868578      -2.155842 0.001251564 0.0281407 0.01939522 1797\n",
       "GO:0099568 -0.3426037      -1.498141 0.001290323 0.0281407 0.01939522 2613\n",
       "GO:0062023 -0.5200592      -2.250533 0.001308901 0.0281407 0.01939522 1897\n",
       "GO:0044441 -0.3612491      -1.542344 0.001340483 0.0281407 0.01939522 2643\n",
       "GO:0005788 -0.4102832      -1.733236 0.001356852 0.0281407 0.01939522 1836\n",
       "GO:0032838 -0.4365603      -1.727705 0.001485884 0.0281407 0.01939522 2417\n",
       "           leading_edge                  \n",
       "GO:0031012 tags=37%, list=14%, signal=33%\n",
       "GO:0099568 tags=28%, list=21%, signal=23%\n",
       "GO:0062023 tags=39%, list=15%, signal=34%\n",
       "GO:0044441 tags=32%, list=21%, signal=25%\n",
       "GO:0005788 tags=27%, list=15%, signal=23%\n",
       "GO:0032838 tags=28%, list=19%, signal=23%\n",
       "           core_enrichment                                                                                                                                                                                                                                                                                                                                                                                                                                                                                                                                                                                                                                                                                                                                                                                                                                    \n",
       "GO:0031012 57124/3910/51162/3371/2662/12/1291/4153/1301/56547/7474/3490/79875/7450/80781/78987/79625/8840/1490/1280/1306/4314/80070/8425/977/10085/4054/51435/4256/3483/7482/2246/7837/169611/80059/7042/3912/4322/5919/2817/8722/6694/1278/10216/1511/5176/4060/283/30008/7869/1277/7078/5549/22795/10516/81578/23452/1293/1295/22915/8406/80760/1012/6469/8076/5118/2192/1281/50509/4319/1290/81029/79812/7058/11096/2202/4313/2199/1294/4856/26018/7481/4653/5764/6387/11117/3263/3339/7079/1462/1289/1292/3908/4016/25878/3909/4053/83716/6678/1955/1296/7041/8292/633/1191/54361/2162/10418/2239/1842/2615/165/5654/10631/1805/81035/2331/4485/3730/2152/63923/7043/5104/1359/3913/4982/8404/1300/2200/1634/79883/131578/4059/7177/1287/7049/563/7060/11081/2006/7373/1307/9370/79148/4958/1311/1308/8483/8839/4693/4148/1101/64499/54829/10234/4239/4969\n",
       "GO:0099568 1639/51332/120/79882/399/23025/55752/3880/6622/55717/4130/4642/146754/10256/7881/3315/10947/55909/23265/3092/6416/285527/10211/1499/56171/9371/10497/92104/27445/2735/5357/126353/4739/25876/2571/1397/5813/6787/7402/5816/5590/51164/1490/4628/66008/55779/9743/7248/79781/10979/11005/23176/444/6764/8605/5311/2246/22863/4734/23122/9847/6709/9854/151011/2934/57731/51626/2241/4747/10411/9742/2868/5874/51314/4926/22832/582/2317/79819/10486/85477/22906/857/388/79659/10129/55812/2737/4646/3800/23245/55638/83450/9590/9576/114327/79971/4117/7122/25924/4137/79083/7802                                                                                                                                                                                                                                                                   \n",
       "GO:0062023 4017/6649/1288/4811/3910/51162/3371/2662/12/1291/4153/1301/7474/3490/79875/7450/80781/78987/1490/1280/1306/80070/8425/977/10085/4054/51435/4256/7482/7837/7042/3912/5919/2817/8722/6694/1278/10216/1511/5176/4060/283/30008/7869/1277/7078/5549/22795/10516/81578/23452/1293/1295/22915/8406/80760/1012/6469/8076/5118/2192/1281/50509/1290/81029/79812/7058/11096/2202/4313/2199/1294/4856/4653/5764/6387/11117/3263/3339/1462/1289/1292/3908/4016/25878/3909/4053/6678/1955/1296/7041/8292/633/1191/2162/10418/2239/1842/165/5654/10631/1805/2331/4485/2152/7043/5104/1359/3913/8404/1300/2200/1634/79883/131578/4059/7177/1287/563/7060/2006/7373/1307/9370/79148/4958/1311/1308/8483/4693/4148/64499/54829/4239/4969                                                                                                                           \n",
       "GO:0044441 6295/23329/2060/8814/53340/57828/25861/9696/3000/755/5190/2909/11337/54903/8481/79600/403/79874/5310/1639/51332/5891/8558/51761/5742/30845/55717/146754/146057/56123/2776/5158/283232/54806/56171/9371/4131/79960/95681/56912/8556/92104/80705/2735/22873/25876/79841/6337/80184/6787/84747/9231/27241/54558/55779/92482/79781/1235/5311/22863/64792/8100/51626/5108/9742/2868/51314/22832/582/57728/79819/80127/5577/585/80323/23116/90355/79659/55112/55812/2737/3800/65250/2121/83450/54587/9576/1811/114327/2947/4117/25924/79846/7802                                                                                                                                                                                                                                                                                                         \n",
       "GO:0005788 64374/845/3371/23621/1291/1301/375056/2098/7474/2322/7466/5624/3490/80781/79642/1280/1306/10272/844/11001/5799/590/3912/3270/6694/1278/80267/51280/414/1277/81578/1293/1295/6469/1281/50509/11167/1290/81029/11096/56034/91851/1294/2621/1471/1462/1289/1292/1296/174/1191/54361/213/10418/11098/54587/3913/3487/8404/1300/2200/1287/7373/80310/1307/1308/652/4148/8614                                                                                                                                                                                                                                                                                                                                                                                                                                                                            \n",
       "GO:0032838 55717/4130/146754/7881/3315/10947/6416/56171/9371/92104/2735/25876/5813/6787/66008/55779/79781/22863/51626/4747/9742/5874/51314/22832/582/79819/22906/79659/55812/2737/3800/55638/83450/9576/114327/79971/4117/4137/7802                                                                                                                                                                                                                                                                                                                                                                                                                                                                                                                                                                                                                           "
      ]
     },
     "metadata": {},
     "output_type": "display_data"
    }
   ],
   "source": [
    "head(ego3)"
   ]
  },
  {
   "cell_type": "markdown",
   "metadata": {},
   "source": [
    "## KEGG enrichment analysis"
   ]
  },
  {
   "cell_type": "code",
   "execution_count": 19,
   "metadata": {},
   "outputs": [
    {
     "data": {
      "text/html": [
       "<table>\n",
       "<caption>A data.frame: 6 × 9</caption>\n",
       "<thead>\n",
       "\t<tr><th></th><th scope=col>ID</th><th scope=col>Description</th><th scope=col>GeneRatio</th><th scope=col>BgRatio</th><th scope=col>pvalue</th><th scope=col>p.adjust</th><th scope=col>qvalue</th><th scope=col>geneID</th><th scope=col>Count</th></tr>\n",
       "\t<tr><th></th><th scope=col>&lt;chr&gt;</th><th scope=col>&lt;chr&gt;</th><th scope=col>&lt;chr&gt;</th><th scope=col>&lt;chr&gt;</th><th scope=col>&lt;dbl&gt;</th><th scope=col>&lt;dbl&gt;</th><th scope=col>&lt;dbl&gt;</th><th scope=col>&lt;chr&gt;</th><th scope=col>&lt;int&gt;</th></tr>\n",
       "</thead>\n",
       "<tbody>\n",
       "\t<tr><th scope=row>hsa04110</th><td>hsa04110</td><td>Cell cycle                                                   </td><td>11/94</td><td>124/8076</td><td>1.682416e-07</td><td>3.398481e-05</td><td>3.311703e-05</td><td>8318/991/9133/890/983/4085/7272/1111/891/4174/9232</td><td>11</td></tr>\n",
       "\t<tr><th scope=row>hsa04114</th><td>hsa04114</td><td>Oocyte meiosis                                               </td><td>10/94</td><td>129/8076</td><td>2.211978e-06</td><td>2.234098e-04</td><td>2.177052e-04</td><td>991/9133/983/4085/51806/6790/891/9232/3708/5241   </td><td>10</td></tr>\n",
       "\t<tr><th scope=row>hsa04218</th><td>hsa04218</td><td>Cellular senescence                                          </td><td>10/94</td><td>156/8076</td><td>1.218107e-05</td><td>8.201923e-04</td><td>7.992494e-04</td><td>2305/4605/9133/890/983/51806/1111/891/776/3708    </td><td>10</td></tr>\n",
       "\t<tr><th scope=row>hsa04061</th><td>hsa04061</td><td>Viral protein interaction with cytokine and cytokine receptor</td><td>8/94 </td><td>100/8076</td><td>1.930262e-05</td><td>9.747821e-04</td><td>9.498919e-04</td><td>3627/10563/6373/4283/6362/6355/9547/1524          </td><td> 8</td></tr>\n",
       "\t<tr><th scope=row>hsa03320</th><td>hsa03320</td><td>PPAR signaling pathway                                       </td><td>7/94 </td><td>78/8076 </td><td>3.114884e-05</td><td>1.258413e-03</td><td>1.226281e-03</td><td>4312/9415/9370/5105/2167/3158/5346                </td><td> 7</td></tr>\n",
       "\t<tr><th scope=row>hsa04914</th><td>hsa04914</td><td>Progesterone-mediated oocyte maturation                      </td><td>7/94 </td><td>100/8076</td><td>1.533516e-04</td><td>5.162836e-03</td><td>5.031008e-03</td><td>9133/890/983/4085/6790/891/5241                   </td><td> 7</td></tr>\n",
       "</tbody>\n",
       "</table>\n"
      ],
      "text/latex": [
       "A data.frame: 6 × 9\n",
       "\\begin{tabular}{r|lllllllll}\n",
       "  & ID & Description & GeneRatio & BgRatio & pvalue & p.adjust & qvalue & geneID & Count\\\\\n",
       "  & <chr> & <chr> & <chr> & <chr> & <dbl> & <dbl> & <dbl> & <chr> & <int>\\\\\n",
       "\\hline\n",
       "\thsa04110 & hsa04110 & Cell cycle                                                    & 11/94 & 124/8076 & 1.682416e-07 & 3.398481e-05 & 3.311703e-05 & 8318/991/9133/890/983/4085/7272/1111/891/4174/9232 & 11\\\\\n",
       "\thsa04114 & hsa04114 & Oocyte meiosis                                                & 10/94 & 129/8076 & 2.211978e-06 & 2.234098e-04 & 2.177052e-04 & 991/9133/983/4085/51806/6790/891/9232/3708/5241    & 10\\\\\n",
       "\thsa04218 & hsa04218 & Cellular senescence                                           & 10/94 & 156/8076 & 1.218107e-05 & 8.201923e-04 & 7.992494e-04 & 2305/4605/9133/890/983/51806/1111/891/776/3708     & 10\\\\\n",
       "\thsa04061 & hsa04061 & Viral protein interaction with cytokine and cytokine receptor & 8/94  & 100/8076 & 1.930262e-05 & 9.747821e-04 & 9.498919e-04 & 3627/10563/6373/4283/6362/6355/9547/1524           &  8\\\\\n",
       "\thsa03320 & hsa03320 & PPAR signaling pathway                                        & 7/94  & 78/8076  & 3.114884e-05 & 1.258413e-03 & 1.226281e-03 & 4312/9415/9370/5105/2167/3158/5346                 &  7\\\\\n",
       "\thsa04914 & hsa04914 & Progesterone-mediated oocyte maturation                       & 7/94  & 100/8076 & 1.533516e-04 & 5.162836e-03 & 5.031008e-03 & 9133/890/983/4085/6790/891/5241                    &  7\\\\\n",
       "\\end{tabular}\n"
      ],
      "text/markdown": [
       "\n",
       "A data.frame: 6 × 9\n",
       "\n",
       "| <!--/--> | ID &lt;chr&gt; | Description &lt;chr&gt; | GeneRatio &lt;chr&gt; | BgRatio &lt;chr&gt; | pvalue &lt;dbl&gt; | p.adjust &lt;dbl&gt; | qvalue &lt;dbl&gt; | geneID &lt;chr&gt; | Count &lt;int&gt; |\n",
       "|---|---|---|---|---|---|---|---|---|---|\n",
       "| hsa04110 | hsa04110 | Cell cycle                                                    | 11/94 | 124/8076 | 1.682416e-07 | 3.398481e-05 | 3.311703e-05 | 8318/991/9133/890/983/4085/7272/1111/891/4174/9232 | 11 |\n",
       "| hsa04114 | hsa04114 | Oocyte meiosis                                                | 10/94 | 129/8076 | 2.211978e-06 | 2.234098e-04 | 2.177052e-04 | 991/9133/983/4085/51806/6790/891/9232/3708/5241    | 10 |\n",
       "| hsa04218 | hsa04218 | Cellular senescence                                           | 10/94 | 156/8076 | 1.218107e-05 | 8.201923e-04 | 7.992494e-04 | 2305/4605/9133/890/983/51806/1111/891/776/3708     | 10 |\n",
       "| hsa04061 | hsa04061 | Viral protein interaction with cytokine and cytokine receptor | 8/94  | 100/8076 | 1.930262e-05 | 9.747821e-04 | 9.498919e-04 | 3627/10563/6373/4283/6362/6355/9547/1524           |  8 |\n",
       "| hsa03320 | hsa03320 | PPAR signaling pathway                                        | 7/94  | 78/8076  | 3.114884e-05 | 1.258413e-03 | 1.226281e-03 | 4312/9415/9370/5105/2167/3158/5346                 |  7 |\n",
       "| hsa04914 | hsa04914 | Progesterone-mediated oocyte maturation                       | 7/94  | 100/8076 | 1.533516e-04 | 5.162836e-03 | 5.031008e-03 | 9133/890/983/4085/6790/891/5241                    |  7 |\n",
       "\n"
      ],
      "text/plain": [
       "         ID       Description                                                  \n",
       "hsa04110 hsa04110 Cell cycle                                                   \n",
       "hsa04114 hsa04114 Oocyte meiosis                                               \n",
       "hsa04218 hsa04218 Cellular senescence                                          \n",
       "hsa04061 hsa04061 Viral protein interaction with cytokine and cytokine receptor\n",
       "hsa03320 hsa03320 PPAR signaling pathway                                       \n",
       "hsa04914 hsa04914 Progesterone-mediated oocyte maturation                      \n",
       "         GeneRatio BgRatio  pvalue       p.adjust     qvalue      \n",
       "hsa04110 11/94     124/8076 1.682416e-07 3.398481e-05 3.311703e-05\n",
       "hsa04114 10/94     129/8076 2.211978e-06 2.234098e-04 2.177052e-04\n",
       "hsa04218 10/94     156/8076 1.218107e-05 8.201923e-04 7.992494e-04\n",
       "hsa04061 8/94      100/8076 1.930262e-05 9.747821e-04 9.498919e-04\n",
       "hsa03320 7/94      78/8076  3.114884e-05 1.258413e-03 1.226281e-03\n",
       "hsa04914 7/94      100/8076 1.533516e-04 5.162836e-03 5.031008e-03\n",
       "         geneID                                             Count\n",
       "hsa04110 8318/991/9133/890/983/4085/7272/1111/891/4174/9232 11   \n",
       "hsa04114 991/9133/983/4085/51806/6790/891/9232/3708/5241    10   \n",
       "hsa04218 2305/4605/9133/890/983/51806/1111/891/776/3708     10   \n",
       "hsa04061 3627/10563/6373/4283/6362/6355/9547/1524            8   \n",
       "hsa03320 4312/9415/9370/5105/2167/3158/5346                  7   \n",
       "hsa04914 9133/890/983/4085/6790/891/5241                     7   "
      ]
     },
     "metadata": {},
     "output_type": "display_data"
    }
   ],
   "source": [
    "kk <- enrichKEGG(gene         = gene,\n",
    "                 organism     = 'hsa',\n",
    "                 pvalueCutoff = 0.05)\n",
    "head(kk)"
   ]
  },
  {
   "cell_type": "code",
   "execution_count": 20,
   "metadata": {},
   "outputs": [],
   "source": [
    "?enrichKEGG"
   ]
  },
  {
   "cell_type": "code",
   "execution_count": 21,
   "metadata": {},
   "outputs": [
    {
     "data": {
      "text/html": [
       "<table>\n",
       "<caption>A data.frame: 0 × 9</caption>\n",
       "<thead>\n",
       "\t<tr><th scope=col>ID</th><th scope=col>Description</th><th scope=col>GeneRatio</th><th scope=col>BgRatio</th><th scope=col>pvalue</th><th scope=col>p.adjust</th><th scope=col>qvalue</th><th scope=col>geneID</th><th scope=col>Count</th></tr>\n",
       "\t<tr><th scope=col>&lt;chr&gt;</th><th scope=col>&lt;chr&gt;</th><th scope=col>&lt;chr&gt;</th><th scope=col>&lt;chr&gt;</th><th scope=col>&lt;dbl&gt;</th><th scope=col>&lt;dbl&gt;</th><th scope=col>&lt;dbl&gt;</th><th scope=col>&lt;chr&gt;</th><th scope=col>&lt;int&gt;</th></tr>\n",
       "</thead>\n",
       "<tbody>\n",
       "</tbody>\n",
       "</table>\n"
      ],
      "text/latex": [
       "A data.frame: 0 × 9\n",
       "\\begin{tabular}{lllllllll}\n",
       " ID & Description & GeneRatio & BgRatio & pvalue & p.adjust & qvalue & geneID & Count\\\\\n",
       " <chr> & <chr> & <chr> & <chr> & <dbl> & <dbl> & <dbl> & <chr> & <int>\\\\\n",
       "\\hline\n",
       "\\end{tabular}\n"
      ],
      "text/markdown": [
       "\n",
       "A data.frame: 0 × 9\n",
       "\n",
       "| ID &lt;chr&gt; | Description &lt;chr&gt; | GeneRatio &lt;chr&gt; | BgRatio &lt;chr&gt; | pvalue &lt;dbl&gt; | p.adjust &lt;dbl&gt; | qvalue &lt;dbl&gt; | geneID &lt;chr&gt; | Count &lt;int&gt; |\n",
       "|---|---|---|---|---|---|---|---|---|\n",
       "\n"
      ],
      "text/plain": [
       "     ID Description GeneRatio BgRatio pvalue p.adjust qvalue geneID Count"
      ]
     },
     "metadata": {},
     "output_type": "display_data"
    }
   ],
   "source": [
    "mkk <- enrichMKEGG(gene = gene,\n",
    "                   organism = 'hsa')\n",
    "head(mkk)"
   ]
  },
  {
   "cell_type": "code",
   "execution_count": 22,
   "metadata": {},
   "outputs": [
    {
     "name": "stderr",
     "output_type": "stream",
     "text": [
      "preparing geneSet collections...\n",
      "\n",
      "GSEA analysis...\n",
      "\n",
      "no term enriched under specific pvalueCutoff...\n",
      "\n"
     ]
    },
    {
     "data": {
      "text/html": [
       "<table>\n",
       "<caption>A data.frame: 0 × 8</caption>\n",
       "<thead>\n",
       "\t<tr><th scope=col>ID</th><th scope=col>Description</th><th scope=col>setSize</th><th scope=col>enrichmentScore</th><th scope=col>NES</th><th scope=col>pvalue</th><th scope=col>p.adjust</th><th scope=col>qvalues</th></tr>\n",
       "\t<tr><th scope=col>&lt;chr&gt;</th><th scope=col>&lt;chr&gt;</th><th scope=col>&lt;int&gt;</th><th scope=col>&lt;dbl&gt;</th><th scope=col>&lt;dbl&gt;</th><th scope=col>&lt;dbl&gt;</th><th scope=col>&lt;dbl&gt;</th><th scope=col>&lt;dbl&gt;</th></tr>\n",
       "</thead>\n",
       "<tbody>\n",
       "</tbody>\n",
       "</table>\n"
      ],
      "text/latex": [
       "A data.frame: 0 × 8\n",
       "\\begin{tabular}{llllllll}\n",
       " ID & Description & setSize & enrichmentScore & NES & pvalue & p.adjust & qvalues\\\\\n",
       " <chr> & <chr> & <int> & <dbl> & <dbl> & <dbl> & <dbl> & <dbl>\\\\\n",
       "\\hline\n",
       "\\end{tabular}\n"
      ],
      "text/markdown": [
       "\n",
       "A data.frame: 0 × 8\n",
       "\n",
       "| ID &lt;chr&gt; | Description &lt;chr&gt; | setSize &lt;int&gt; | enrichmentScore &lt;dbl&gt; | NES &lt;dbl&gt; | pvalue &lt;dbl&gt; | p.adjust &lt;dbl&gt; | qvalues &lt;dbl&gt; |\n",
       "|---|---|---|---|---|---|---|---|\n",
       "\n"
      ],
      "text/plain": [
       "     ID Description setSize enrichmentScore NES pvalue p.adjust qvalues"
      ]
     },
     "metadata": {},
     "output_type": "display_data"
    }
   ],
   "source": [
    "mkk2 <- gseMKEGG(geneList = geneList,\n",
    "                 organism = 'hsa')\n",
    "head(mkk2)"
   ]
  },
  {
   "cell_type": "code",
   "execution_count": 58,
   "metadata": {},
   "outputs": [],
   "source": [
    "?enrichKEGG"
   ]
  },
  {
   "cell_type": "code",
   "execution_count": 57,
   "metadata": {},
   "outputs": [],
   "source": [
    "?enrichMKEGG"
   ]
  },
  {
   "cell_type": "code",
   "execution_count": 54,
   "metadata": {},
   "outputs": [],
   "source": [
    "?enrichKEGG"
   ]
  },
  {
   "cell_type": "code",
   "execution_count": 61,
   "metadata": {},
   "outputs": [],
   "source": [
    "?setReadable"
   ]
  },
  {
   "cell_type": "code",
   "execution_count": 62,
   "metadata": {},
   "outputs": [],
   "source": [
    "?EXTID2NAME"
   ]
  },
  {
   "cell_type": "code",
   "execution_count": 64,
   "metadata": {},
   "outputs": [
    {
     "data": {
      "text/html": [
       "<pre class=language-r><code>function (x, OrgDb, keyType = \"auto\") \n",
       "{\n",
       "<span style=white-space:pre-wrap>    OrgDb &lt;- load_OrgDb(OrgDb)</span>\n",
       "<span style=white-space:pre-wrap>    if (!\"SYMBOL\" %in% columns(OrgDb)) {</span>\n",
       "<span style=white-space:pre-wrap>        warning(\"Fail to convert input geneID to SYMBOL since no SYMBOL information available in the provided OrgDb...\")</span>\n",
       "<span style=white-space:pre-wrap>    }</span>\n",
       "<span style=white-space:pre-wrap>    if (!(is(x, \"enrichResult\") || is(x, \"groupGOResult\") || </span>\n",
       "<span style=white-space:pre-wrap>        is(x, \"gseaResult\"))) </span>\n",
       "<span style=white-space:pre-wrap>        stop(\"input should be an 'enrichResult' or 'gseaResult' object...\")</span>\n",
       "<span style=white-space:pre-wrap>    isGSEA &lt;- FALSE</span>\n",
       "<span style=white-space:pre-wrap>    if (is(x, \"gseaResult\")) </span>\n",
       "<span style=white-space:pre-wrap>        isGSEA &lt;- TRUE</span>\n",
       "<span style=white-space:pre-wrap>    if (keyType == \"auto\") {</span>\n",
       "<span style=white-space:pre-wrap>        keyType &lt;- x@keytype</span>\n",
       "<span style=white-space:pre-wrap>        if (keyType == \"UNKNOWN\") {</span>\n",
       "<span style=white-space:pre-wrap>            stop(\"can't determine keyType automatically; need to set 'keyType' explicitly...\")</span>\n",
       "<span style=white-space:pre-wrap>        }</span>\n",
       "<span style=white-space:pre-wrap>    }</span>\n",
       "<span style=white-space:pre-wrap>    if (x@readable) </span>\n",
       "<span style=white-space:pre-wrap>        return(x)</span>\n",
       "<span style=white-space:pre-wrap>    gc &lt;- geneInCategory(x)</span>\n",
       "<span style=white-space:pre-wrap>    if (isGSEA) {</span>\n",
       "<span style=white-space:pre-wrap>        genes &lt;- names(x@geneList)</span>\n",
       "<span style=white-space:pre-wrap>    }</span>\n",
       "<span style=white-space:pre-wrap>    else {</span>\n",
       "<span style=white-space:pre-wrap>        genes &lt;- x@gene</span>\n",
       "<span style=white-space:pre-wrap>    }</span>\n",
       "<span style=white-space:pre-wrap>    gn &lt;- EXTID2NAME(OrgDb, genes, keyType)</span>\n",
       "<span style=white-space:pre-wrap>    gc &lt;- lapply(gc, function(i) gn[i])</span>\n",
       "<span style=white-space:pre-wrap>    res &lt;- x@result</span>\n",
       "<span style=white-space:pre-wrap>    gc &lt;- gc[as.character(res$ID)]</span>\n",
       "<span style=white-space:pre-wrap>    geneID &lt;- sapply(gc, paste0, collapse = \"/\")</span>\n",
       "<span style=white-space:pre-wrap>    if (isGSEA) {</span>\n",
       "<span style=white-space:pre-wrap>        res$core_enrichment &lt;- unlist(geneID)</span>\n",
       "<span style=white-space:pre-wrap>    }</span>\n",
       "<span style=white-space:pre-wrap>    else {</span>\n",
       "<span style=white-space:pre-wrap>        res$geneID &lt;- unlist(geneID)</span>\n",
       "<span style=white-space:pre-wrap>    }</span>\n",
       "<span style=white-space:pre-wrap>    x@gene2Symbol &lt;- gn</span>\n",
       "<span style=white-space:pre-wrap>    x@result &lt;- res</span>\n",
       "<span style=white-space:pre-wrap>    x@keytype &lt;- keyType</span>\n",
       "<span style=white-space:pre-wrap>    x@readable &lt;- TRUE</span>\n",
       "<span style=white-space:pre-wrap>    return(x)</span>\n",
       "}</code></pre>"
      ],
      "text/latex": [
       "\\begin{minted}{r}\n",
       "function (x, OrgDb, keyType = \"auto\") \n",
       "\\{\n",
       "    OrgDb <- load\\_OrgDb(OrgDb)\n",
       "    if (!\"SYMBOL\" \\%in\\% columns(OrgDb)) \\{\n",
       "        warning(\"Fail to convert input geneID to SYMBOL since no SYMBOL information available in the provided OrgDb...\")\n",
       "    \\}\n",
       "    if (!(is(x, \"enrichResult\") \\textbar{}\\textbar{} is(x, \"groupGOResult\") \\textbar{}\\textbar{} \n",
       "        is(x, \"gseaResult\"))) \n",
       "        stop(\"input should be an 'enrichResult' or 'gseaResult' object...\")\n",
       "    isGSEA <- FALSE\n",
       "    if (is(x, \"gseaResult\")) \n",
       "        isGSEA <- TRUE\n",
       "    if (keyType == \"auto\") \\{\n",
       "        keyType <- x@keytype\n",
       "        if (keyType == \"UNKNOWN\") \\{\n",
       "            stop(\"can't determine keyType automatically; need to set 'keyType' explicitly...\")\n",
       "        \\}\n",
       "    \\}\n",
       "    if (x@readable) \n",
       "        return(x)\n",
       "    gc <- geneInCategory(x)\n",
       "    if (isGSEA) \\{\n",
       "        genes <- names(x@geneList)\n",
       "    \\}\n",
       "    else \\{\n",
       "        genes <- x@gene\n",
       "    \\}\n",
       "    gn <- EXTID2NAME(OrgDb, genes, keyType)\n",
       "    gc <- lapply(gc, function(i) gn{[}i{]})\n",
       "    res <- x@result\n",
       "    gc <- gc{[}as.character(res\\$ID){]}\n",
       "    geneID <- sapply(gc, paste0, collapse = \"/\")\n",
       "    if (isGSEA) \\{\n",
       "        res\\$core\\_enrichment <- unlist(geneID)\n",
       "    \\}\n",
       "    else \\{\n",
       "        res\\$geneID <- unlist(geneID)\n",
       "    \\}\n",
       "    x@gene2Symbol <- gn\n",
       "    x@result <- res\n",
       "    x@keytype <- keyType\n",
       "    x@readable <- TRUE\n",
       "    return(x)\n",
       "\\}\n",
       "\\end{minted}"
      ],
      "text/markdown": [
       "```r\n",
       "function (x, OrgDb, keyType = \"auto\") \n",
       "{\n",
       "    OrgDb <- load_OrgDb(OrgDb)\n",
       "    if (!\"SYMBOL\" %in% columns(OrgDb)) {\n",
       "        warning(\"Fail to convert input geneID to SYMBOL since no SYMBOL information available in the provided OrgDb...\")\n",
       "    }\n",
       "    if (!(is(x, \"enrichResult\") || is(x, \"groupGOResult\") || \n",
       "        is(x, \"gseaResult\"))) \n",
       "        stop(\"input should be an 'enrichResult' or 'gseaResult' object...\")\n",
       "    isGSEA <- FALSE\n",
       "    if (is(x, \"gseaResult\")) \n",
       "        isGSEA <- TRUE\n",
       "    if (keyType == \"auto\") {\n",
       "        keyType <- x@keytype\n",
       "        if (keyType == \"UNKNOWN\") {\n",
       "            stop(\"can't determine keyType automatically; need to set 'keyType' explicitly...\")\n",
       "        }\n",
       "    }\n",
       "    if (x@readable) \n",
       "        return(x)\n",
       "    gc <- geneInCategory(x)\n",
       "    if (isGSEA) {\n",
       "        genes <- names(x@geneList)\n",
       "    }\n",
       "    else {\n",
       "        genes <- x@gene\n",
       "    }\n",
       "    gn <- EXTID2NAME(OrgDb, genes, keyType)\n",
       "    gc <- lapply(gc, function(i) gn[i])\n",
       "    res <- x@result\n",
       "    gc <- gc[as.character(res$ID)]\n",
       "    geneID <- sapply(gc, paste0, collapse = \"/\")\n",
       "    if (isGSEA) {\n",
       "        res$core_enrichment <- unlist(geneID)\n",
       "    }\n",
       "    else {\n",
       "        res$geneID <- unlist(geneID)\n",
       "    }\n",
       "    x@gene2Symbol <- gn\n",
       "    x@result <- res\n",
       "    x@keytype <- keyType\n",
       "    x@readable <- TRUE\n",
       "    return(x)\n",
       "}\n",
       "```"
      ],
      "text/plain": [
       "function (x, OrgDb, keyType = \"auto\") \n",
       "{\n",
       "    OrgDb <- load_OrgDb(OrgDb)\n",
       "    if (!\"SYMBOL\" %in% columns(OrgDb)) {\n",
       "        warning(\"Fail to convert input geneID to SYMBOL since no SYMBOL information available in the provided OrgDb...\")\n",
       "    }\n",
       "    if (!(is(x, \"enrichResult\") || is(x, \"groupGOResult\") || \n",
       "        is(x, \"gseaResult\"))) \n",
       "        stop(\"input should be an 'enrichResult' or 'gseaResult' object...\")\n",
       "    isGSEA <- FALSE\n",
       "    if (is(x, \"gseaResult\")) \n",
       "        isGSEA <- TRUE\n",
       "    if (keyType == \"auto\") {\n",
       "        keyType <- x@keytype\n",
       "        if (keyType == \"UNKNOWN\") {\n",
       "            stop(\"can't determine keyType automatically; need to set 'keyType' explicitly...\")\n",
       "        }\n",
       "    }\n",
       "    if (x@readable) \n",
       "        return(x)\n",
       "    gc <- geneInCategory(x)\n",
       "    if (isGSEA) {\n",
       "        genes <- names(x@geneList)\n",
       "    }\n",
       "    else {\n",
       "        genes <- x@gene\n",
       "    }\n",
       "    gn <- EXTID2NAME(OrgDb, genes, keyType)\n",
       "    gc <- lapply(gc, function(i) gn[i])\n",
       "    res <- x@result\n",
       "    gc <- gc[as.character(res$ID)]\n",
       "    geneID <- sapply(gc, paste0, collapse = \"/\")\n",
       "    if (isGSEA) {\n",
       "        res$core_enrichment <- unlist(geneID)\n",
       "    }\n",
       "    else {\n",
       "        res$geneID <- unlist(geneID)\n",
       "    }\n",
       "    x@gene2Symbol <- gn\n",
       "    x@result <- res\n",
       "    x@keytype <- keyType\n",
       "    x@readable <- TRUE\n",
       "    return(x)\n",
       "}\n",
       "<bytecode: 0x7fa3db9fb938>\n",
       "<environment: namespace:DOSE>"
      ]
     },
     "metadata": {},
     "output_type": "display_data"
    }
   ],
   "source": [
    "setReadable"
   ]
  },
  {
   "cell_type": "code",
   "execution_count": 65,
   "metadata": {},
   "outputs": [
    {
     "data": {
      "text/plain": [
       "#\n",
       "# over-representation test\n",
       "#\n",
       "#...@organism \t Homo sapiens \n",
       "#...@ontology \t CC \n",
       "#...@keytype \t ENTREZID \n",
       "#...@gene \t chr [1:207] \"4312\" \"8318\" \"10874\" \"55143\" \"55388\" \"991\" \"6280\" \"2305\" ...\n",
       "#...pvalues adjusted by 'BH' with cutoff <0.01 \n",
       "#...23 enriched terms found\n",
       "'data.frame':\t23 obs. of  9 variables:\n",
       " $ ID         : chr  \"GO:0005819\" \"GO:0005876\" \"GO:0000779\" \"GO:0072686\" ...\n",
       " $ Description: chr  \"spindle\" \"spindle microtubule\" \"condensed chromosome, centromeric region\" \"mitotic spindle\" ...\n",
       " $ GeneRatio  : chr  \"25/200\" \"12/200\" \"15/200\" \"15/200\" ...\n",
       " $ BgRatio    : chr  \"272/11816\" \"48/11816\" \"91/11816\" \"92/11816\" ...\n",
       " $ pvalue     : num  4.70e-12 1.62e-11 2.81e-11 3.31e-11 1.06e-10 ...\n",
       " $ p.adjust   : num  1.49e-09 2.58e-09 2.63e-09 2.63e-09 6.75e-09 ...\n",
       " $ qvalue     : num  1.38e-09 2.38e-09 2.43e-09 2.43e-09 6.23e-09 ...\n",
       " $ geneID     : chr  \"CDCA8/CDC20/KIF23/CENPE/ASPM/DLGAP5/SKA1/NUSAP1/TPX2/TACC3/NEK2/CDK1/MAD2L1/KIF18A/BIRC5/KIF11/TTK/AURKB/PRC1/K\"| __truncated__ \"CENPE/SKA1/NUSAP1/CDK1/KIF18A/BIRC5/KIF11/AURKB/PRC1/KIF18B/AURKA/KIF4A\" \"CENPE/NDC80/HJURP/SKA1/NEK2/CENPM/CENPN/ERCC6L/MAD2L1/CDT1/BIRC5/NCAPG/AURKB/AURKA/CCNB1\" \"KIF23/CENPE/ASPM/SKA1/NUSAP1/TPX2/TACC3/CDK1/MAD2L1/KIF18A/KIF11/AURKB/KIFC1/KIF18B/AURKA\" ...\n",
       " $ Count      : int  25 12 15 15 18 15 18 22 12 13 ...\n",
       "#...Citation\n",
       "  Guangchuang Yu, Li-Gen Wang, Yanyan Han and Qing-Yu He.\n",
       "  clusterProfiler: an R package for comparing biological themes among\n",
       "  gene clusters. OMICS: A Journal of Integrative Biology\n",
       "  2012, 16(5):284-287 \n"
      ]
     },
     "metadata": {},
     "output_type": "display_data"
    }
   ],
   "source": [
    "ego"
   ]
  },
  {
   "cell_type": "code",
   "execution_count": null,
   "metadata": {},
   "outputs": [],
   "source": []
  }
 ],
 "metadata": {
  "kernelspec": {
   "display_name": "R",
   "language": "R",
   "name": "ir"
  },
  "language_info": {
   "codemirror_mode": "r",
   "file_extension": ".r",
   "mimetype": "text/x-r-source",
   "name": "R",
   "pygments_lexer": "r",
   "version": "3.6.1"
  }
 },
 "nbformat": 4,
 "nbformat_minor": 4
}
